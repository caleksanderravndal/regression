{
 "cells": [
  {
   "cell_type": "markdown",
   "id": "1201af5c",
   "metadata": {},
   "source": [
    "# Predicting Daily Electricity Consumption in Norway Using Weather, Seasonality, and Recent History\n",
    "\n",
    "### 1. Problem statement\n",
    "\n",
    "#### Context and motivation\n",
    "\n",
    "<p>Norway’s electricity system is unique: nearly 100% of its production comes from hydropower, making it one of the world’s cleanest energy grids. While the supply side is largely sustainable, the demand side is highly variable, shaped by cold winters, shifting weather patterns, and seasonal consumption cycles.</p>\n",
    "\n",
    "<p>Accurate demand forecasting is crucial for:</p>\n",
    "<ul>\n",
    "<li>Balancing supply and demand to ensure grid stability.</li>\n",
    "<li>Efficient resource allocation (e.g., optimizing water reservoir usage in hydropower plants).</li>\n",
    "<li>Supporting sustainability goals by reducing waste, limiting unnecessary imports, and enabling smarter energy management.</li>\n",
    "</ul>\n",
    "\n",
    "<p>Unlike electricity prices, which are heavily influenced by international markets, domestic electricity consumption can be modeled using weather, calendar effects, and recent demand patterns. This allows us to create a Norway-only model that is both meaningful and interpretable.</p>\n",
    "\n",
    "\n",
    "#### Problem definition\n",
    "\n",
    "<p>This project aims to predict daily electricity consumption (MWh) in Norway using:</p>\n",
    "<ul>\n",
    "<li>Weather data (temperature, precipitation).</li>\n",
    "<li>Seasonal indicators (month, weekday, weekends, holidays).</li>\n",
    "<li>Recent consumption history (lags such as yesterday and last week).</li>\n",
    "</ul>\n",
    "\n",
    "<p>The target variable is actual_energy_mwh from ENTSO-E consumption data.</p>\n",
    "\n",
    "\n",
    "#### Research question\n",
    "\n",
    "<p>Can we predict daily electricity consumption in Norway using weather, seasonality, and recent history — and what insights can we gain about the main drivers of demand?</p>\n",
    "\n",
    "\n",
    "#### Hypothesis\n",
    "\n",
    "<p>Electricity consumption in Norway can be predicted primarily from temperature, seasonality, and short-term persistence. Specifically:</p>\n",
    "<ul>\n",
    "<li>Demand will increase during colder days due to heating requirements.</li>\n",
    "<li>Seasonal cycles, such as winter peaks and summer troughs, will be captured through month- and weekday-based features.</li>\n",
    "<li>Recent consumption (lags) will be a strong predictor of today’s consumption, improving accuracy compared to weather-only models.</li>\n",
    "<li>Precipitation is expected to have limited predictive power compared to temperature.</li>\n",
    "</ul>\n",
    "\n",
    "\n",
    "#### Expected outcome\n",
    "\n",
    "<p>The regression models are expected to capture much of the daily variation in electricity consumption, especially when lag features are included. Weather-only models will likely underperform, but adding autoregressive terms (e.g., yesterday’s and last week’s consumption) should result in strong predictive accuracy. This outcome highlights the persistence of electricity demand and the role of weather and seasonality in shaping short-term fluctuations.</p>\n",
    "\n",
    "\n",
    "#### Sustainability and social impact\n",
    "<ul>\n",
    "<li>Better demand predictions support efficient hydropower reservoir management, preventing unnecessary water releases and ensuring energy security.</li>\n",
    "<li>Forecasting consumption enables integration of new renewable sources (e.g., wind, solar) by helping operators balance variability.</li>\n",
    "<li>Insights into demand drivers can inform policy measures (e.g., energy efficiency campaigns during cold spells) and encourage consumer behavior that reduces waste.</li>\n",
    "</ul>"
   ]
  },
  {
   "cell_type": "markdown",
   "id": "0b5c6632",
   "metadata": {},
   "source": [
    "## 2. Data preparation and exploratory analysis data\n",
    "\n",
    "### 2.1 Data sources and loading\n",
    "\n",
    "<p>Two datasets are used in this project:</p>\n",
    "<ul>\n",
    "<li>Consumption dataset (ENTSO-E): daily total electricity consumption in Norway (actual_energy_mwh).</li>\n",
    "<li>Weather dataset (MET Norway): daily average, minimum, and maximum temperatures, along with daily precipitation.</li>\n",
    "</ul>\n",
    "\n",
    "<p>Both datasets span the period from 2015-01-01 to 2025-08-12, with complete temporal overlap.</p>"
   ]
  },
  {
   "cell_type": "code",
   "execution_count": 2,
   "id": "0660e511",
   "metadata": {},
   "outputs": [
    {
     "data": {
      "application/vnd.microsoft.datawrangler.viewer.v0+json": {
       "columns": [
        {
         "name": "index",
         "rawType": "int64",
         "type": "integer"
        },
        {
         "name": "date",
         "rawType": "datetime64[ns]",
         "type": "datetime"
        },
        {
         "name": "year",
         "rawType": "int64",
         "type": "integer"
        },
        {
         "name": "month",
         "rawType": "int64",
         "type": "integer"
        },
        {
         "name": "day",
         "rawType": "int64",
         "type": "integer"
        },
        {
         "name": "month_sin",
         "rawType": "float64",
         "type": "float"
        },
        {
         "name": "month_cos",
         "rawType": "float64",
         "type": "float"
        },
        {
         "name": "actual_energy_mwh",
         "rawType": "float64",
         "type": "float"
        },
        {
         "name": "forecast_energy_mwh",
         "rawType": "float64",
         "type": "float"
        }
       ],
       "ref": "6f83544b-2509-49eb-b395-ab3b0bb3b569",
       "rows": [
        [
         "0",
         "2015-01-01 00:00:00",
         "2015",
         "1",
         "1",
         "0.4999999999999999",
         "0.8660254037844387",
         "383940.78",
         "385046.29"
        ],
        [
         "1",
         "2015-01-02 00:00:00",
         "2015",
         "1",
         "2",
         "0.4999999999999999",
         "0.8660254037844387",
         "433005.71",
         "433023.14"
        ],
        [
         "2",
         "2015-01-03 00:00:00",
         "2015",
         "1",
         "3",
         "0.4999999999999999",
         "0.8660254037844387",
         "388409.07",
         "388442.22"
        ],
        [
         "3",
         "2015-01-04 00:00:00",
         "2015",
         "1",
         "4",
         "0.4999999999999999",
         "0.8660254037844387",
         "376810.6",
         "412820.62"
        ],
        [
         "4",
         "2015-01-05 00:00:00",
         "2015",
         "1",
         "5",
         "0.4999999999999999",
         "0.8660254037844387",
         "326417.35",
         "326486.11"
        ]
       ],
       "shape": {
        "columns": 8,
        "rows": 5
       }
      },
      "text/html": [
       "<div>\n",
       "<style scoped>\n",
       "    .dataframe tbody tr th:only-of-type {\n",
       "        vertical-align: middle;\n",
       "    }\n",
       "\n",
       "    .dataframe tbody tr th {\n",
       "        vertical-align: top;\n",
       "    }\n",
       "\n",
       "    .dataframe thead th {\n",
       "        text-align: right;\n",
       "    }\n",
       "</style>\n",
       "<table border=\"1\" class=\"dataframe\">\n",
       "  <thead>\n",
       "    <tr style=\"text-align: right;\">\n",
       "      <th></th>\n",
       "      <th>date</th>\n",
       "      <th>year</th>\n",
       "      <th>month</th>\n",
       "      <th>day</th>\n",
       "      <th>month_sin</th>\n",
       "      <th>month_cos</th>\n",
       "      <th>actual_energy_mwh</th>\n",
       "      <th>forecast_energy_mwh</th>\n",
       "    </tr>\n",
       "  </thead>\n",
       "  <tbody>\n",
       "    <tr>\n",
       "      <th>0</th>\n",
       "      <td>2015-01-01</td>\n",
       "      <td>2015</td>\n",
       "      <td>1</td>\n",
       "      <td>1</td>\n",
       "      <td>0.5</td>\n",
       "      <td>0.866025</td>\n",
       "      <td>383940.78</td>\n",
       "      <td>385046.29</td>\n",
       "    </tr>\n",
       "    <tr>\n",
       "      <th>1</th>\n",
       "      <td>2015-01-02</td>\n",
       "      <td>2015</td>\n",
       "      <td>1</td>\n",
       "      <td>2</td>\n",
       "      <td>0.5</td>\n",
       "      <td>0.866025</td>\n",
       "      <td>433005.71</td>\n",
       "      <td>433023.14</td>\n",
       "    </tr>\n",
       "    <tr>\n",
       "      <th>2</th>\n",
       "      <td>2015-01-03</td>\n",
       "      <td>2015</td>\n",
       "      <td>1</td>\n",
       "      <td>3</td>\n",
       "      <td>0.5</td>\n",
       "      <td>0.866025</td>\n",
       "      <td>388409.07</td>\n",
       "      <td>388442.22</td>\n",
       "    </tr>\n",
       "    <tr>\n",
       "      <th>3</th>\n",
       "      <td>2015-01-04</td>\n",
       "      <td>2015</td>\n",
       "      <td>1</td>\n",
       "      <td>4</td>\n",
       "      <td>0.5</td>\n",
       "      <td>0.866025</td>\n",
       "      <td>376810.60</td>\n",
       "      <td>412820.62</td>\n",
       "    </tr>\n",
       "    <tr>\n",
       "      <th>4</th>\n",
       "      <td>2015-01-05</td>\n",
       "      <td>2015</td>\n",
       "      <td>1</td>\n",
       "      <td>5</td>\n",
       "      <td>0.5</td>\n",
       "      <td>0.866025</td>\n",
       "      <td>326417.35</td>\n",
       "      <td>326486.11</td>\n",
       "    </tr>\n",
       "  </tbody>\n",
       "</table>\n",
       "</div>"
      ],
      "text/plain": [
       "        date  year  month  day  month_sin  month_cos  actual_energy_mwh  \\\n",
       "0 2015-01-01  2015      1    1        0.5   0.866025          383940.78   \n",
       "1 2015-01-02  2015      1    2        0.5   0.866025          433005.71   \n",
       "2 2015-01-03  2015      1    3        0.5   0.866025          388409.07   \n",
       "3 2015-01-04  2015      1    4        0.5   0.866025          376810.60   \n",
       "4 2015-01-05  2015      1    5        0.5   0.866025          326417.35   \n",
       "\n",
       "   forecast_energy_mwh  \n",
       "0            385046.29  \n",
       "1            433023.14  \n",
       "2            388442.22  \n",
       "3            412820.62  \n",
       "4            326486.11  "
      ]
     },
     "metadata": {},
     "output_type": "display_data"
    },
    {
     "data": {
      "application/vnd.microsoft.datawrangler.viewer.v0+json": {
       "columns": [
        {
         "name": "index",
         "rawType": "int64",
         "type": "integer"
        },
        {
         "name": "time",
         "rawType": "datetime64[ns]",
         "type": "datetime"
        },
        {
         "name": "precip_mm",
         "rawType": "float64",
         "type": "float"
        },
        {
         "name": "temp_mean_c",
         "rawType": "float64",
         "type": "float"
        },
        {
         "name": "temp_min_c",
         "rawType": "float64",
         "type": "float"
        },
        {
         "name": "temp_max_c",
         "rawType": "float64",
         "type": "float"
        },
        {
         "name": "year",
         "rawType": "int64",
         "type": "integer"
        },
        {
         "name": "month",
         "rawType": "int64",
         "type": "integer"
        },
        {
         "name": "day",
         "rawType": "int64",
         "type": "integer"
        }
       ],
       "ref": "88a94f39-935a-4659-907c-a1f64c3add88",
       "rows": [
        [
         "0",
         "2015-01-01 00:00:00",
         "6.9688187",
         "1.4428456",
         "-0.9883247",
         "4.2503366",
         "2015",
         "1",
         "1"
        ],
        [
         "1",
         "2015-01-02 00:00:00",
         "9.321172",
         "1.6211892",
         "-2.9611976",
         "2.9975467",
         "2015",
         "1",
         "2"
        ],
        [
         "2",
         "2015-01-03 00:00:00",
         "7.1506844",
         "-1.0073528",
         "-4.7355604",
         "-0.22871892",
         "2015",
         "1",
         "3"
        ],
        [
         "3",
         "2015-01-04 00:00:00",
         "4.3973336",
         "-3.2676225",
         "-7.807855",
         "-2.594002",
         "2015",
         "1",
         "4"
        ],
        [
         "4",
         "2015-01-05 00:00:00",
         "3.3613598",
         "-5.696588",
         "-10.747153",
         "-4.007652",
         "2015",
         "1",
         "5"
        ]
       ],
       "shape": {
        "columns": 8,
        "rows": 5
       }
      },
      "text/html": [
       "<div>\n",
       "<style scoped>\n",
       "    .dataframe tbody tr th:only-of-type {\n",
       "        vertical-align: middle;\n",
       "    }\n",
       "\n",
       "    .dataframe tbody tr th {\n",
       "        vertical-align: top;\n",
       "    }\n",
       "\n",
       "    .dataframe thead th {\n",
       "        text-align: right;\n",
       "    }\n",
       "</style>\n",
       "<table border=\"1\" class=\"dataframe\">\n",
       "  <thead>\n",
       "    <tr style=\"text-align: right;\">\n",
       "      <th></th>\n",
       "      <th>time</th>\n",
       "      <th>precip_mm</th>\n",
       "      <th>temp_mean_c</th>\n",
       "      <th>temp_min_c</th>\n",
       "      <th>temp_max_c</th>\n",
       "      <th>year</th>\n",
       "      <th>month</th>\n",
       "      <th>day</th>\n",
       "    </tr>\n",
       "  </thead>\n",
       "  <tbody>\n",
       "    <tr>\n",
       "      <th>0</th>\n",
       "      <td>2015-01-01</td>\n",
       "      <td>6.968819</td>\n",
       "      <td>1.442846</td>\n",
       "      <td>-0.988325</td>\n",
       "      <td>4.250337</td>\n",
       "      <td>2015</td>\n",
       "      <td>1</td>\n",
       "      <td>1</td>\n",
       "    </tr>\n",
       "    <tr>\n",
       "      <th>1</th>\n",
       "      <td>2015-01-02</td>\n",
       "      <td>9.321172</td>\n",
       "      <td>1.621189</td>\n",
       "      <td>-2.961198</td>\n",
       "      <td>2.997547</td>\n",
       "      <td>2015</td>\n",
       "      <td>1</td>\n",
       "      <td>2</td>\n",
       "    </tr>\n",
       "    <tr>\n",
       "      <th>2</th>\n",
       "      <td>2015-01-03</td>\n",
       "      <td>7.150684</td>\n",
       "      <td>-1.007353</td>\n",
       "      <td>-4.735560</td>\n",
       "      <td>-0.228719</td>\n",
       "      <td>2015</td>\n",
       "      <td>1</td>\n",
       "      <td>3</td>\n",
       "    </tr>\n",
       "    <tr>\n",
       "      <th>3</th>\n",
       "      <td>2015-01-04</td>\n",
       "      <td>4.397334</td>\n",
       "      <td>-3.267622</td>\n",
       "      <td>-7.807855</td>\n",
       "      <td>-2.594002</td>\n",
       "      <td>2015</td>\n",
       "      <td>1</td>\n",
       "      <td>4</td>\n",
       "    </tr>\n",
       "    <tr>\n",
       "      <th>4</th>\n",
       "      <td>2015-01-05</td>\n",
       "      <td>3.361360</td>\n",
       "      <td>-5.696588</td>\n",
       "      <td>-10.747153</td>\n",
       "      <td>-4.007652</td>\n",
       "      <td>2015</td>\n",
       "      <td>1</td>\n",
       "      <td>5</td>\n",
       "    </tr>\n",
       "  </tbody>\n",
       "</table>\n",
       "</div>"
      ],
      "text/plain": [
       "        time  precip_mm  temp_mean_c  temp_min_c  temp_max_c  year  month  day\n",
       "0 2015-01-01   6.968819     1.442846   -0.988325    4.250337  2015      1    1\n",
       "1 2015-01-02   9.321172     1.621189   -2.961198    2.997547  2015      1    2\n",
       "2 2015-01-03   7.150684    -1.007353   -4.735560   -0.228719  2015      1    3\n",
       "3 2015-01-04   4.397334    -3.267622   -7.807855   -2.594002  2015      1    4\n",
       "4 2015-01-05   3.361360    -5.696588  -10.747153   -4.007652  2015      1    5"
      ]
     },
     "metadata": {},
     "output_type": "display_data"
    }
   ],
   "source": [
    "import pandas as pd\n",
    "import numpy as np\n",
    "import matplotlib.pyplot as plt\n",
    "import seaborn as sns\n",
    "\n",
    "# Load data\n",
    "cons_df = pd.read_csv(\"../datasets/norway_consumption.csv\")\n",
    "wea_df = pd.read_csv(\"../datasets/norway_weather.csv\")\n",
    "\n",
    "# Convert to datetime\n",
    "cons_df['date'] = pd.to_datetime(cons_df['date'])\n",
    "wea_df['time'] = pd.to_datetime(wea_df['time'])\n",
    "\n",
    "# Preview\n",
    "display(cons_df.head())\n",
    "display(wea_df.head())"
   ]
  },
  {
   "cell_type": "markdown",
   "id": "0aa7f04e",
   "metadata": {},
   "source": [
    "<p>Both datasets contain valid daily timestamps and numeric values. Consumption data is in MWh, weather in °C and mm of precipitation.</p>"
   ]
  },
  {
   "cell_type": "markdown",
   "id": "ff2f97b1",
   "metadata": {},
   "source": [
    "### 2.2 Time coverage and granularity"
   ]
  },
  {
   "cell_type": "code",
   "execution_count": 3,
   "id": "e78398a7",
   "metadata": {},
   "outputs": [
    {
     "name": "stdout",
     "output_type": "stream",
     "text": [
      "Consumption period: 2015-01-01 00:00:00 to 2025-12-08 00:00:00\n",
      "Weather period: 2015-01-01 00:00:00 to 2025-08-12 00:00:00\n",
      "Consumption frequency (unique diffs): date\n",
      "1 days    3994\n",
      "Name: count, dtype: int64\n",
      "Weather frequency (unique diffs): time\n",
      "1 days    3876\n",
      "Name: count, dtype: int64\n"
     ]
    }
   ],
   "source": [
    "print(\"Consumption period:\", cons_df['date'].min(), \"to\", cons_df['date'].max())\n",
    "print(\"Weather period:\", wea_df['time'].min(), \"to\", wea_df['time'].max())\n",
    "print(\"Consumption frequency (unique diffs):\", cons_df['date'].diff().value_counts().head())\n",
    "print(\"Weather frequency (unique diffs):\", wea_df['time'].diff().value_counts().head())"
   ]
  },
  {
   "cell_type": "markdown",
   "id": "59071345",
   "metadata": {},
   "source": [
    "<p>Consumption runs from 2015-01-01 → 2025-12-08 and weather from 2015-01-01 → 2025-08-12. Both are daily, with ~3,877 overlapping days (2015-01-01 → 2025-08-12).</p>"
   ]
  },
  {
   "cell_type": "markdown",
   "id": "50399a69",
   "metadata": {},
   "source": [
    "### 2.3 Missing values"
   ]
  },
  {
   "cell_type": "code",
   "execution_count": 4,
   "id": "1c198d69",
   "metadata": {},
   "outputs": [
    {
     "name": "stdout",
     "output_type": "stream",
     "text": [
      "Consumption missing values:\n",
      " date                   0\n",
      "year                   0\n",
      "month                  0\n",
      "day                    0\n",
      "month_sin              0\n",
      "month_cos              0\n",
      "actual_energy_mwh      0\n",
      "forecast_energy_mwh    0\n",
      "dtype: int64\n",
      "\n",
      "Weather missing values:\n",
      " time           0\n",
      "precip_mm      0\n",
      "temp_mean_c    0\n",
      "temp_min_c     0\n",
      "temp_max_c     0\n",
      "year           0\n",
      "month          0\n",
      "day            0\n",
      "dtype: int64\n"
     ]
    }
   ],
   "source": [
    "print(\"Consumption missing values:\\n\", cons_df.isna().sum())\n",
    "print(\"\\nWeather missing values:\\n\", wea_df.isna().sum())"
   ]
  },
  {
   "cell_type": "markdown",
   "id": "2d99a722",
   "metadata": {},
   "source": [
    "<p>No significant missing values were detected. The datasets can be merged without heavy imputation.</p>"
   ]
  },
  {
   "cell_type": "markdown",
   "id": "652eada8",
   "metadata": {},
   "source": [
    "### 2.4 Merging the datasets"
   ]
  },
  {
   "cell_type": "code",
   "execution_count": 5,
   "id": "7443aa9d",
   "metadata": {},
   "outputs": [
    {
     "name": "stdout",
     "output_type": "stream",
     "text": [
      "Merged dataset shape: (3877, 15)\n"
     ]
    },
    {
     "data": {
      "application/vnd.microsoft.datawrangler.viewer.v0+json": {
       "columns": [
        {
         "name": "index",
         "rawType": "int64",
         "type": "integer"
        },
        {
         "name": "date",
         "rawType": "datetime64[ns]",
         "type": "datetime"
        },
        {
         "name": "year_x",
         "rawType": "int64",
         "type": "integer"
        },
        {
         "name": "month_x",
         "rawType": "int64",
         "type": "integer"
        },
        {
         "name": "day_x",
         "rawType": "int64",
         "type": "integer"
        },
        {
         "name": "month_sin",
         "rawType": "float64",
         "type": "float"
        },
        {
         "name": "month_cos",
         "rawType": "float64",
         "type": "float"
        },
        {
         "name": "actual_energy_mwh",
         "rawType": "float64",
         "type": "float"
        },
        {
         "name": "forecast_energy_mwh",
         "rawType": "float64",
         "type": "float"
        },
        {
         "name": "precip_mm",
         "rawType": "float64",
         "type": "float"
        },
        {
         "name": "temp_mean_c",
         "rawType": "float64",
         "type": "float"
        },
        {
         "name": "temp_min_c",
         "rawType": "float64",
         "type": "float"
        },
        {
         "name": "temp_max_c",
         "rawType": "float64",
         "type": "float"
        },
        {
         "name": "year_y",
         "rawType": "int64",
         "type": "integer"
        },
        {
         "name": "month_y",
         "rawType": "int64",
         "type": "integer"
        },
        {
         "name": "day_y",
         "rawType": "int64",
         "type": "integer"
        }
       ],
       "ref": "2f0ab1c0-b6e2-43d9-86ea-c8d2112362a7",
       "rows": [
        [
         "0",
         "2015-01-01 00:00:00",
         "2015",
         "1",
         "1",
         "0.4999999999999999",
         "0.8660254037844387",
         "383940.78",
         "385046.29",
         "6.9688187",
         "1.4428456",
         "-0.9883247",
         "4.2503366",
         "2015",
         "1",
         "1"
        ],
        [
         "1",
         "2015-01-02 00:00:00",
         "2015",
         "1",
         "2",
         "0.4999999999999999",
         "0.8660254037844387",
         "433005.71",
         "433023.14",
         "9.321172",
         "1.6211892",
         "-2.9611976",
         "2.9975467",
         "2015",
         "1",
         "2"
        ],
        [
         "2",
         "2015-01-03 00:00:00",
         "2015",
         "1",
         "3",
         "0.4999999999999999",
         "0.8660254037844387",
         "388409.07",
         "388442.22",
         "7.1506844",
         "-1.0073528",
         "-4.7355604",
         "-0.22871892",
         "2015",
         "1",
         "3"
        ],
        [
         "3",
         "2015-01-04 00:00:00",
         "2015",
         "1",
         "4",
         "0.4999999999999999",
         "0.8660254037844387",
         "376810.6",
         "412820.62",
         "4.3973336",
         "-3.2676225",
         "-7.807855",
         "-2.594002",
         "2015",
         "1",
         "4"
        ],
        [
         "4",
         "2015-01-05 00:00:00",
         "2015",
         "1",
         "5",
         "0.4999999999999999",
         "0.8660254037844387",
         "326417.35",
         "326486.11",
         "3.3613598",
         "-5.696588",
         "-10.747153",
         "-4.007652",
         "2015",
         "1",
         "5"
        ]
       ],
       "shape": {
        "columns": 15,
        "rows": 5
       }
      },
      "text/html": [
       "<div>\n",
       "<style scoped>\n",
       "    .dataframe tbody tr th:only-of-type {\n",
       "        vertical-align: middle;\n",
       "    }\n",
       "\n",
       "    .dataframe tbody tr th {\n",
       "        vertical-align: top;\n",
       "    }\n",
       "\n",
       "    .dataframe thead th {\n",
       "        text-align: right;\n",
       "    }\n",
       "</style>\n",
       "<table border=\"1\" class=\"dataframe\">\n",
       "  <thead>\n",
       "    <tr style=\"text-align: right;\">\n",
       "      <th></th>\n",
       "      <th>date</th>\n",
       "      <th>year_x</th>\n",
       "      <th>month_x</th>\n",
       "      <th>day_x</th>\n",
       "      <th>month_sin</th>\n",
       "      <th>month_cos</th>\n",
       "      <th>actual_energy_mwh</th>\n",
       "      <th>forecast_energy_mwh</th>\n",
       "      <th>precip_mm</th>\n",
       "      <th>temp_mean_c</th>\n",
       "      <th>temp_min_c</th>\n",
       "      <th>temp_max_c</th>\n",
       "      <th>year_y</th>\n",
       "      <th>month_y</th>\n",
       "      <th>day_y</th>\n",
       "    </tr>\n",
       "  </thead>\n",
       "  <tbody>\n",
       "    <tr>\n",
       "      <th>0</th>\n",
       "      <td>2015-01-01</td>\n",
       "      <td>2015</td>\n",
       "      <td>1</td>\n",
       "      <td>1</td>\n",
       "      <td>0.5</td>\n",
       "      <td>0.866025</td>\n",
       "      <td>383940.78</td>\n",
       "      <td>385046.29</td>\n",
       "      <td>6.968819</td>\n",
       "      <td>1.442846</td>\n",
       "      <td>-0.988325</td>\n",
       "      <td>4.250337</td>\n",
       "      <td>2015</td>\n",
       "      <td>1</td>\n",
       "      <td>1</td>\n",
       "    </tr>\n",
       "    <tr>\n",
       "      <th>1</th>\n",
       "      <td>2015-01-02</td>\n",
       "      <td>2015</td>\n",
       "      <td>1</td>\n",
       "      <td>2</td>\n",
       "      <td>0.5</td>\n",
       "      <td>0.866025</td>\n",
       "      <td>433005.71</td>\n",
       "      <td>433023.14</td>\n",
       "      <td>9.321172</td>\n",
       "      <td>1.621189</td>\n",
       "      <td>-2.961198</td>\n",
       "      <td>2.997547</td>\n",
       "      <td>2015</td>\n",
       "      <td>1</td>\n",
       "      <td>2</td>\n",
       "    </tr>\n",
       "    <tr>\n",
       "      <th>2</th>\n",
       "      <td>2015-01-03</td>\n",
       "      <td>2015</td>\n",
       "      <td>1</td>\n",
       "      <td>3</td>\n",
       "      <td>0.5</td>\n",
       "      <td>0.866025</td>\n",
       "      <td>388409.07</td>\n",
       "      <td>388442.22</td>\n",
       "      <td>7.150684</td>\n",
       "      <td>-1.007353</td>\n",
       "      <td>-4.735560</td>\n",
       "      <td>-0.228719</td>\n",
       "      <td>2015</td>\n",
       "      <td>1</td>\n",
       "      <td>3</td>\n",
       "    </tr>\n",
       "    <tr>\n",
       "      <th>3</th>\n",
       "      <td>2015-01-04</td>\n",
       "      <td>2015</td>\n",
       "      <td>1</td>\n",
       "      <td>4</td>\n",
       "      <td>0.5</td>\n",
       "      <td>0.866025</td>\n",
       "      <td>376810.60</td>\n",
       "      <td>412820.62</td>\n",
       "      <td>4.397334</td>\n",
       "      <td>-3.267622</td>\n",
       "      <td>-7.807855</td>\n",
       "      <td>-2.594002</td>\n",
       "      <td>2015</td>\n",
       "      <td>1</td>\n",
       "      <td>4</td>\n",
       "    </tr>\n",
       "    <tr>\n",
       "      <th>4</th>\n",
       "      <td>2015-01-05</td>\n",
       "      <td>2015</td>\n",
       "      <td>1</td>\n",
       "      <td>5</td>\n",
       "      <td>0.5</td>\n",
       "      <td>0.866025</td>\n",
       "      <td>326417.35</td>\n",
       "      <td>326486.11</td>\n",
       "      <td>3.361360</td>\n",
       "      <td>-5.696588</td>\n",
       "      <td>-10.747153</td>\n",
       "      <td>-4.007652</td>\n",
       "      <td>2015</td>\n",
       "      <td>1</td>\n",
       "      <td>5</td>\n",
       "    </tr>\n",
       "  </tbody>\n",
       "</table>\n",
       "</div>"
      ],
      "text/plain": [
       "        date  year_x  month_x  day_x  month_sin  month_cos  actual_energy_mwh  \\\n",
       "0 2015-01-01    2015        1      1        0.5   0.866025          383940.78   \n",
       "1 2015-01-02    2015        1      2        0.5   0.866025          433005.71   \n",
       "2 2015-01-03    2015        1      3        0.5   0.866025          388409.07   \n",
       "3 2015-01-04    2015        1      4        0.5   0.866025          376810.60   \n",
       "4 2015-01-05    2015        1      5        0.5   0.866025          326417.35   \n",
       "\n",
       "   forecast_energy_mwh  precip_mm  temp_mean_c  temp_min_c  temp_max_c  \\\n",
       "0            385046.29   6.968819     1.442846   -0.988325    4.250337   \n",
       "1            433023.14   9.321172     1.621189   -2.961198    2.997547   \n",
       "2            388442.22   7.150684    -1.007353   -4.735560   -0.228719   \n",
       "3            412820.62   4.397334    -3.267622   -7.807855   -2.594002   \n",
       "4            326486.11   3.361360    -5.696588  -10.747153   -4.007652   \n",
       "\n",
       "   year_y  month_y  day_y  \n",
       "0    2015        1      1  \n",
       "1    2015        1      2  \n",
       "2    2015        1      3  \n",
       "3    2015        1      4  \n",
       "4    2015        1      5  "
      ]
     },
     "metadata": {},
     "output_type": "display_data"
    }
   ],
   "source": [
    "# Rename weather time column\n",
    "wea_df = wea_df.rename(columns={'time': 'date'})\n",
    "\n",
    "# Merge\n",
    "df = cons_df.merge(wea_df, on=\"date\", how=\"inner\")\n",
    "print(\"Merged dataset shape:\", df.shape)\n",
    "display(df.head())"
   ]
  },
  {
   "cell_type": "markdown",
   "id": "6900285a",
   "metadata": {},
   "source": [
    "<p>The merged dataset contains daily consumption and weather with no data loss.</p>"
   ]
  },
  {
   "cell_type": "markdown",
   "id": "a2c02b83",
   "metadata": {},
   "source": [
    "### 2.5 Descriptive statistics"
   ]
  },
  {
   "cell_type": "code",
   "execution_count": 6,
   "id": "3d8416f5",
   "metadata": {},
   "outputs": [
    {
     "data": {
      "application/vnd.microsoft.datawrangler.viewer.v0+json": {
       "columns": [
        {
         "name": "index",
         "rawType": "object",
         "type": "string"
        },
        {
         "name": "count",
         "rawType": "object",
         "type": "unknown"
        },
        {
         "name": "mean",
         "rawType": "object",
         "type": "unknown"
        },
        {
         "name": "min",
         "rawType": "object",
         "type": "unknown"
        },
        {
         "name": "25%",
         "rawType": "object",
         "type": "unknown"
        },
        {
         "name": "50%",
         "rawType": "object",
         "type": "unknown"
        },
        {
         "name": "75%",
         "rawType": "object",
         "type": "unknown"
        },
        {
         "name": "max",
         "rawType": "object",
         "type": "unknown"
        },
        {
         "name": "std",
         "rawType": "object",
         "type": "unknown"
        }
       ],
       "ref": "4690f46e-2ee6-46ab-a6de-66860d2429d8",
       "rows": [
        [
         "date",
         "3877",
         "2020-04-22 00:00:00",
         "2015-01-01 00:00:00",
         "2017-08-27 00:00:00",
         "2020-04-22 00:00:00",
         "2022-12-17 00:00:00",
         "2025-08-12 00:00:00",
         null
        ],
        [
         "year_x",
         "3877.0",
         "2019.8181583698736",
         "2015.0",
         "2017.0",
         "2020.0",
         "2022.0",
         "2025.0",
         "3.0699113067078767"
        ],
        [
         "month_x",
         "3877.0",
         "6.389992262058293",
         "1.0",
         "3.0",
         "6.0",
         "9.0",
         "12.0",
         "3.4296080651946603"
        ],
        [
         "day_x",
         "3877.0",
         "15.698994067578024",
         "1.0",
         "8.0",
         "16.0",
         "23.0",
         "31.0",
         "8.803580254852475"
        ],
        [
         "month_sin",
         "3877.0",
         "0.017873156727897885",
         "-1.0",
         "-0.5000000000000004",
         "1.2246467991473532e-16",
         "0.8660254037844386",
         "1.0",
         "0.7047790374202533"
        ],
        [
         "month_cos",
         "3877.0",
         "-0.01831494494587628",
         "-1.0",
         "-0.8660254037844387",
         "-1.8369701987210294e-16",
         "0.5000000000000001",
         "1.0",
         "0.7091469879014707"
        ],
        [
         "actual_energy_mwh",
         "3877.0",
         "420487.4473314849",
         "251009.21",
         "387726.5",
         "437089.8205263158",
         "467653.24833333335",
         "559042.97",
         "67974.00827840788"
        ],
        [
         "forecast_energy_mwh",
         "3877.0",
         "419929.76661078155",
         "251242.51",
         "386901.78",
         "437017.534",
         "467339.421",
         "557399.91",
         "67880.90796155891"
        ],
        [
         "precip_mm",
         "3877.0",
         "3.260313679909698",
         "0.0",
         "1.21701",
         "2.6906638",
         "4.708345",
         "22.049587",
         "2.645860528176146"
        ],
        [
         "temp_mean_c",
         "3877.0",
         "2.5305459820789267",
         "-19.462748",
         "-3.132606",
         "1.8498126",
         "9.155609",
         "19.901438",
         "7.578659629066687"
        ],
        [
         "temp_min_c",
         "3877.0",
         "-1.5613746424121742",
         "-22.55113",
         "-7.190041132240436",
         "-2.0945282",
         "5.0013695",
         "15.466372",
         "7.387649105644842"
        ],
        [
         "temp_max_c",
         "3877.0",
         "5.401383431797601",
         "-16.496372",
         "-1.0157399",
         "4.1020713",
         "12.478576",
         "26.267363",
         "8.169288990016632"
        ],
        [
         "year_y",
         "3877.0",
         "2019.8181583698736",
         "2015.0",
         "2017.0",
         "2020.0",
         "2022.0",
         "2025.0",
         "3.0699113067078767"
        ],
        [
         "month_y",
         "3877.0",
         "6.389992262058293",
         "1.0",
         "3.0",
         "6.0",
         "9.0",
         "12.0",
         "3.4296080651946603"
        ],
        [
         "day_y",
         "3877.0",
         "15.698994067578024",
         "1.0",
         "8.0",
         "16.0",
         "23.0",
         "31.0",
         "8.803580254852475"
        ]
       ],
       "shape": {
        "columns": 8,
        "rows": 15
       }
      },
      "text/html": [
       "<div>\n",
       "<style scoped>\n",
       "    .dataframe tbody tr th:only-of-type {\n",
       "        vertical-align: middle;\n",
       "    }\n",
       "\n",
       "    .dataframe tbody tr th {\n",
       "        vertical-align: top;\n",
       "    }\n",
       "\n",
       "    .dataframe thead th {\n",
       "        text-align: right;\n",
       "    }\n",
       "</style>\n",
       "<table border=\"1\" class=\"dataframe\">\n",
       "  <thead>\n",
       "    <tr style=\"text-align: right;\">\n",
       "      <th></th>\n",
       "      <th>count</th>\n",
       "      <th>mean</th>\n",
       "      <th>min</th>\n",
       "      <th>25%</th>\n",
       "      <th>50%</th>\n",
       "      <th>75%</th>\n",
       "      <th>max</th>\n",
       "      <th>std</th>\n",
       "    </tr>\n",
       "  </thead>\n",
       "  <tbody>\n",
       "    <tr>\n",
       "      <th>date</th>\n",
       "      <td>3877</td>\n",
       "      <td>2020-04-22 00:00:00</td>\n",
       "      <td>2015-01-01 00:00:00</td>\n",
       "      <td>2017-08-27 00:00:00</td>\n",
       "      <td>2020-04-22 00:00:00</td>\n",
       "      <td>2022-12-17 00:00:00</td>\n",
       "      <td>2025-08-12 00:00:00</td>\n",
       "      <td>NaN</td>\n",
       "    </tr>\n",
       "    <tr>\n",
       "      <th>year_x</th>\n",
       "      <td>3877.0</td>\n",
       "      <td>2019.818158</td>\n",
       "      <td>2015.0</td>\n",
       "      <td>2017.0</td>\n",
       "      <td>2020.0</td>\n",
       "      <td>2022.0</td>\n",
       "      <td>2025.0</td>\n",
       "      <td>3.069911</td>\n",
       "    </tr>\n",
       "    <tr>\n",
       "      <th>month_x</th>\n",
       "      <td>3877.0</td>\n",
       "      <td>6.389992</td>\n",
       "      <td>1.0</td>\n",
       "      <td>3.0</td>\n",
       "      <td>6.0</td>\n",
       "      <td>9.0</td>\n",
       "      <td>12.0</td>\n",
       "      <td>3.429608</td>\n",
       "    </tr>\n",
       "    <tr>\n",
       "      <th>day_x</th>\n",
       "      <td>3877.0</td>\n",
       "      <td>15.698994</td>\n",
       "      <td>1.0</td>\n",
       "      <td>8.0</td>\n",
       "      <td>16.0</td>\n",
       "      <td>23.0</td>\n",
       "      <td>31.0</td>\n",
       "      <td>8.80358</td>\n",
       "    </tr>\n",
       "    <tr>\n",
       "      <th>month_sin</th>\n",
       "      <td>3877.0</td>\n",
       "      <td>0.017873</td>\n",
       "      <td>-1.0</td>\n",
       "      <td>-0.5</td>\n",
       "      <td>0.0</td>\n",
       "      <td>0.866025</td>\n",
       "      <td>1.0</td>\n",
       "      <td>0.704779</td>\n",
       "    </tr>\n",
       "    <tr>\n",
       "      <th>month_cos</th>\n",
       "      <td>3877.0</td>\n",
       "      <td>-0.018315</td>\n",
       "      <td>-1.0</td>\n",
       "      <td>-0.866025</td>\n",
       "      <td>-0.0</td>\n",
       "      <td>0.5</td>\n",
       "      <td>1.0</td>\n",
       "      <td>0.709147</td>\n",
       "    </tr>\n",
       "    <tr>\n",
       "      <th>actual_energy_mwh</th>\n",
       "      <td>3877.0</td>\n",
       "      <td>420487.447331</td>\n",
       "      <td>251009.21</td>\n",
       "      <td>387726.5</td>\n",
       "      <td>437089.820526</td>\n",
       "      <td>467653.248333</td>\n",
       "      <td>559042.97</td>\n",
       "      <td>67974.008278</td>\n",
       "    </tr>\n",
       "    <tr>\n",
       "      <th>forecast_energy_mwh</th>\n",
       "      <td>3877.0</td>\n",
       "      <td>419929.766611</td>\n",
       "      <td>251242.51</td>\n",
       "      <td>386901.78</td>\n",
       "      <td>437017.534</td>\n",
       "      <td>467339.421</td>\n",
       "      <td>557399.91</td>\n",
       "      <td>67880.907962</td>\n",
       "    </tr>\n",
       "    <tr>\n",
       "      <th>precip_mm</th>\n",
       "      <td>3877.0</td>\n",
       "      <td>3.260314</td>\n",
       "      <td>0.0</td>\n",
       "      <td>1.21701</td>\n",
       "      <td>2.690664</td>\n",
       "      <td>4.708345</td>\n",
       "      <td>22.049587</td>\n",
       "      <td>2.645861</td>\n",
       "    </tr>\n",
       "    <tr>\n",
       "      <th>temp_mean_c</th>\n",
       "      <td>3877.0</td>\n",
       "      <td>2.530546</td>\n",
       "      <td>-19.462748</td>\n",
       "      <td>-3.132606</td>\n",
       "      <td>1.849813</td>\n",
       "      <td>9.155609</td>\n",
       "      <td>19.901438</td>\n",
       "      <td>7.57866</td>\n",
       "    </tr>\n",
       "    <tr>\n",
       "      <th>temp_min_c</th>\n",
       "      <td>3877.0</td>\n",
       "      <td>-1.561375</td>\n",
       "      <td>-22.55113</td>\n",
       "      <td>-7.190041</td>\n",
       "      <td>-2.094528</td>\n",
       "      <td>5.00137</td>\n",
       "      <td>15.466372</td>\n",
       "      <td>7.387649</td>\n",
       "    </tr>\n",
       "    <tr>\n",
       "      <th>temp_max_c</th>\n",
       "      <td>3877.0</td>\n",
       "      <td>5.401383</td>\n",
       "      <td>-16.496372</td>\n",
       "      <td>-1.01574</td>\n",
       "      <td>4.102071</td>\n",
       "      <td>12.478576</td>\n",
       "      <td>26.267363</td>\n",
       "      <td>8.169289</td>\n",
       "    </tr>\n",
       "    <tr>\n",
       "      <th>year_y</th>\n",
       "      <td>3877.0</td>\n",
       "      <td>2019.818158</td>\n",
       "      <td>2015.0</td>\n",
       "      <td>2017.0</td>\n",
       "      <td>2020.0</td>\n",
       "      <td>2022.0</td>\n",
       "      <td>2025.0</td>\n",
       "      <td>3.069911</td>\n",
       "    </tr>\n",
       "    <tr>\n",
       "      <th>month_y</th>\n",
       "      <td>3877.0</td>\n",
       "      <td>6.389992</td>\n",
       "      <td>1.0</td>\n",
       "      <td>3.0</td>\n",
       "      <td>6.0</td>\n",
       "      <td>9.0</td>\n",
       "      <td>12.0</td>\n",
       "      <td>3.429608</td>\n",
       "    </tr>\n",
       "    <tr>\n",
       "      <th>day_y</th>\n",
       "      <td>3877.0</td>\n",
       "      <td>15.698994</td>\n",
       "      <td>1.0</td>\n",
       "      <td>8.0</td>\n",
       "      <td>16.0</td>\n",
       "      <td>23.0</td>\n",
       "      <td>31.0</td>\n",
       "      <td>8.80358</td>\n",
       "    </tr>\n",
       "  </tbody>\n",
       "</table>\n",
       "</div>"
      ],
      "text/plain": [
       "                      count                 mean                  min  \\\n",
       "date                   3877  2020-04-22 00:00:00  2015-01-01 00:00:00   \n",
       "year_x               3877.0          2019.818158               2015.0   \n",
       "month_x              3877.0             6.389992                  1.0   \n",
       "day_x                3877.0            15.698994                  1.0   \n",
       "month_sin            3877.0             0.017873                 -1.0   \n",
       "month_cos            3877.0            -0.018315                 -1.0   \n",
       "actual_energy_mwh    3877.0        420487.447331            251009.21   \n",
       "forecast_energy_mwh  3877.0        419929.766611            251242.51   \n",
       "precip_mm            3877.0             3.260314                  0.0   \n",
       "temp_mean_c          3877.0             2.530546           -19.462748   \n",
       "temp_min_c           3877.0            -1.561375            -22.55113   \n",
       "temp_max_c           3877.0             5.401383           -16.496372   \n",
       "year_y               3877.0          2019.818158               2015.0   \n",
       "month_y              3877.0             6.389992                  1.0   \n",
       "day_y                3877.0            15.698994                  1.0   \n",
       "\n",
       "                                     25%                  50%  \\\n",
       "date                 2017-08-27 00:00:00  2020-04-22 00:00:00   \n",
       "year_x                            2017.0               2020.0   \n",
       "month_x                              3.0                  6.0   \n",
       "day_x                                8.0                 16.0   \n",
       "month_sin                           -0.5                  0.0   \n",
       "month_cos                      -0.866025                 -0.0   \n",
       "actual_energy_mwh               387726.5        437089.820526   \n",
       "forecast_energy_mwh            386901.78           437017.534   \n",
       "precip_mm                        1.21701             2.690664   \n",
       "temp_mean_c                    -3.132606             1.849813   \n",
       "temp_min_c                     -7.190041            -2.094528   \n",
       "temp_max_c                      -1.01574             4.102071   \n",
       "year_y                            2017.0               2020.0   \n",
       "month_y                              3.0                  6.0   \n",
       "day_y                                8.0                 16.0   \n",
       "\n",
       "                                     75%                  max           std  \n",
       "date                 2022-12-17 00:00:00  2025-08-12 00:00:00           NaN  \n",
       "year_x                            2022.0               2025.0      3.069911  \n",
       "month_x                              9.0                 12.0      3.429608  \n",
       "day_x                               23.0                 31.0       8.80358  \n",
       "month_sin                       0.866025                  1.0      0.704779  \n",
       "month_cos                            0.5                  1.0      0.709147  \n",
       "actual_energy_mwh          467653.248333            559042.97  67974.008278  \n",
       "forecast_energy_mwh           467339.421            557399.91  67880.907962  \n",
       "precip_mm                       4.708345            22.049587      2.645861  \n",
       "temp_mean_c                     9.155609            19.901438       7.57866  \n",
       "temp_min_c                       5.00137            15.466372      7.387649  \n",
       "temp_max_c                     12.478576            26.267363      8.169289  \n",
       "year_y                            2022.0               2025.0      3.069911  \n",
       "month_y                              9.0                 12.0      3.429608  \n",
       "day_y                               23.0                 31.0       8.80358  "
      ]
     },
     "execution_count": 6,
     "metadata": {},
     "output_type": "execute_result"
    }
   ],
   "source": [
    "df.describe().T"
   ]
  },
  {
   "cell_type": "markdown",
   "id": "f0fba14f",
   "metadata": {},
   "source": [
    "<ul>\n",
    "<li>Consumption ranges ~200,000–500,000 MWh/day.</li>\n",
    "<li>Temperature ranges from −20°C to 25°C.</li>\n",
    "<li>Precipitation is usually low with occasional spikes.</li>\n",
    "</ul>"
   ]
  },
  {
   "cell_type": "markdown",
   "id": "96f569e1",
   "metadata": {},
   "source": [
    "### 2.6 Visualizing consumption over time"
   ]
  },
  {
   "cell_type": "code",
   "execution_count": 7,
   "id": "8411686c",
   "metadata": {},
   "outputs": [
    {
     "data": {
      "image/png": "[encoded data removed]",
      "text/plain": [
       "<Figure size 1400x500 with 1 Axes>"
      ]
     },
     "metadata": {},
     "output_type": "display_data"
    }
   ],
   "source": [
    "plt.figure(figsize=(14,5))\n",
    "plt.plot(df['date'], df['actual_energy_mwh'], color='tab:blue')\n",
    "plt.title(\"Daily Electricity Consumption in Norway (2015–2025)\")\n",
    "plt.xlabel(\"Date\")\n",
    "plt.ylabel(\"Consumption (MWh)\")\n",
    "plt.show()"
   ]
  },
  {
   "cell_type": "markdown",
   "id": "446c67ca",
   "metadata": {},
   "source": [
    "<p>Consumption is seasonal, with systematic rises and falls across the year.</p>"
   ]
  },
  {
   "cell_type": "markdown",
   "id": "d1864fbf",
   "metadata": {},
   "source": [
    "### 2.7 Seasonal decomposition"
   ]
  },
  {
   "cell_type": "code",
   "execution_count": 8,
   "id": "5f9eef0f",
   "metadata": {},
   "outputs": [
    {
     "data": {
      "image/png": "[encoded data removed]",
      "text/plain": [
       "<Figure size 640x480 with 4 Axes>"
      ]
     },
     "metadata": {},
     "output_type": "display_data"
    }
   ],
   "source": [
    "from statsmodels.tsa.seasonal import seasonal_decompose\n",
    "\n",
    "series = df.set_index('date')['actual_energy_mwh']\n",
    "decomp = seasonal_decompose(series, model='additive', period=365)\n",
    "decomp.plot()\n",
    "plt.show()"
   ]
  },
  {
   "cell_type": "markdown",
   "id": "b8072caa",
   "metadata": {},
   "source": [
    "<p>The decomposition shows a yearly seasonal cycle, a long-term trend (gradual changes in demand), and short-term irregular components.</p>"
   ]
  },
  {
   "cell_type": "markdown",
   "id": "c6ed9f96",
   "metadata": {},
   "source": [
    "### 2.8 Monthly averages (verify seasonality)"
   ]
  },
  {
   "cell_type": "code",
   "execution_count": 9,
   "id": "fd237b99",
   "metadata": {},
   "outputs": [
    {
     "data": {
      "application/vnd.microsoft.datawrangler.viewer.v0+json": {
       "columns": [
        {
         "name": "month",
         "rawType": "int32",
         "type": "integer"
        },
        {
         "name": "actual_energy_mwh",
         "rawType": "float64",
         "type": "float"
        }
       ],
       "ref": "a06b4d3a-23ac-46bb-b0ad-557eb5258abc",
       "rows": [
        [
         "1",
         "410928.0"
        ],
        [
         "2",
         "414098.0"
        ],
        [
         "3",
         "422039.0"
        ],
        [
         "4",
         "426244.0"
        ],
        [
         "5",
         "427051.0"
        ],
        [
         "6",
         "424691.0"
        ],
        [
         "7",
         "423622.0"
        ],
        [
         "8",
         "421415.0"
        ],
        [
         "9",
         "417999.0"
        ],
        [
         "10",
         "417751.0"
        ],
        [
         "11",
         "419355.0"
        ],
        [
         "12",
         "412172.0"
        ]
       ],
       "shape": {
        "columns": 1,
        "rows": 12
       }
      },
      "text/plain": [
       "month\n",
       "1     410928.0\n",
       "2     414098.0\n",
       "3     422039.0\n",
       "4     426244.0\n",
       "5     427051.0\n",
       "6     424691.0\n",
       "7     423622.0\n",
       "8     421415.0\n",
       "9     417999.0\n",
       "10    417751.0\n",
       "11    419355.0\n",
       "12    412172.0\n",
       "Name: actual_energy_mwh, dtype: float64"
      ]
     },
     "execution_count": 9,
     "metadata": {},
     "output_type": "execute_result"
    }
   ],
   "source": [
    "# Monthly averages to verify seasonality\n",
    "cons = cons_df.copy()\n",
    "cons['month'] = pd.to_datetime(cons['date']).dt.month\n",
    "cons.groupby('month')['actual_energy_mwh'].mean().round(0)"
   ]
  },
  {
   "cell_type": "markdown",
   "id": "f108d677",
   "metadata": {},
   "source": [
    "<p>Consumption is slightly higher in late spring/early summer (Apr–Jun) and lower in winter (Dec–Feb).</p>"
   ]
  },
  {
   "cell_type": "markdown",
   "id": "1868bceb",
   "metadata": {},
   "source": [
    "### 2.9 Weather vs consumption correlation"
   ]
  },
  {
   "cell_type": "code",
   "execution_count": 10,
   "id": "7f276535",
   "metadata": {},
   "outputs": [
    {
     "name": "stdout",
     "output_type": "stream",
     "text": [
      "Overall corr: 0.07405714180056568\n",
      "Winter corr (Dec–Feb): 0.07606918907633563\n",
      "Summer corr (Jun–Aug): 0.16702411956435928\n"
     ]
    }
   ],
   "source": [
    "import re\n",
    "\n",
    "temp_cols = [c for c in df.columns if re.search(r'temp_mean_c', c, re.I)]\n",
    "if temp_cols:\n",
    "    t = temp_cols[0]\n",
    "    print(\"Overall corr:\", df[['actual_energy_mwh', t]].corr().iloc[0,1])\n",
    "    df['month'] = pd.to_datetime(df['date']).dt.month\n",
    "    winter = df[df['month'].isin([12,1,2])]\n",
    "    summer = df[df['month'].isin([6,7,8])]\n",
    "    print(\"Winter corr (Dec–Feb):\", winter[['actual_energy_mwh', t]].corr().iloc[0,1])\n",
    "    print(\"Summer corr (Jun–Aug):\", summer[['actual_energy_mwh', t]].corr().iloc[0,1])"
   ]
  },
  {
   "cell_type": "markdown",
   "id": "b6e48fcf",
   "metadata": {},
   "source": [
    "<p>Temperature shows a weak (near-zero to slightly positive) correlation with consumption. Precipitation has almost no correlation.</p>"
   ]
  },
  {
   "cell_type": "markdown",
   "id": "84012b2e",
   "metadata": {},
   "source": [
    "### 2.10 Correlation heatmap"
   ]
  },
  {
   "cell_type": "code",
   "execution_count": 11,
   "id": "d6e4b073",
   "metadata": {},
   "outputs": [
    {
     "data": {
      "image/png": "[encoded data removed]",
      "text/plain": [
       "<Figure size 600x500 with 2 Axes>"
      ]
     },
     "metadata": {},
     "output_type": "display_data"
    }
   ],
   "source": [
    "corr = df[['actual_energy_mwh','temp_mean_c','temp_min_c','temp_max_c','precip_mm']].corr()\n",
    "\n",
    "plt.figure(figsize=(6,5))\n",
    "sns.heatmap(corr, annot=True, cmap=\"coolwarm\", fmt=\".2f\")\n",
    "plt.title(\"Correlation Heatmap: Consumption vs Weather Variables\")\n",
    "plt.show()"
   ]
  },
  {
   "cell_type": "markdown",
   "id": "5e61cec1",
   "metadata": {},
   "source": [
    "<p>The heatmap confirms that temperature variables have very weak correlations with consumption, while precipitation is essentially uncorrelated.</p>\n"
   ]
  },
  {
   "cell_type": "markdown",
   "id": "83f32659",
   "metadata": {},
   "source": [
    "## 3. Feature engineering and baseline models\n",
    "\n",
    "<p>Before building models, features should be engineered to capture seasonality, weather effects, and recent demand dynamics.</p>\n",
    "\n",
    "Features that will be use:\n",
    "<ol>\n",
    "\n",
    "<li>Calendar features</li>\n",
    "<ul>\n",
    "<li>Day of week (dow)</li>\n",
    "<li>Month (month)</li>\n",
    "<li>Weekend flag (is_weekend)</li>\n",
    "<li>Holidays (optional – could be added later if dataset available)</li>\n",
    "</ul>\n",
    "\n",
    "<li>Weather features</li>\n",
    "<ul>\n",
    "<li>Mean daily temperature (temp_mean_c)</li>\n",
    "<li>Heating Degree Days (HDD): demand added when mean temp < 18°C</li>\n",
    "<li>Cooling Degree Days (CDD): demand added when mean temp > 22°C</li>\n",
    "<li>Precipitation (precip_mm)</li>\n",
    "</ul>\n",
    "\n",
    "<li>Lag features (for later setups)</li>\n",
    "<ul>\n",
    "<li>Yesterday’s consumption (lag1)</li>\n",
    "<li>Last week’s consumption (lag7)</li>\n",
    "</ul>\n",
    "\n",
    "</ol>\n",
    "\n",
    "<p>This ensures a test on:</p>\n",
    "<ul>\n",
    "<li>Weather + Seasonality only (Setup 1)</li>\n",
    "<li>Lags only (Setup 2)</li>\n",
    "<li>Weather + Seasonality + Lags (Setup 3, full model)</li>\n",
    "</ul>\n"
   ]
  },
  {
   "cell_type": "code",
   "execution_count": 12,
   "id": "52c766d4",
   "metadata": {},
   "outputs": [
    {
     "data": {
      "application/vnd.microsoft.datawrangler.viewer.v0+json": {
       "columns": [
        {
         "name": "index",
         "rawType": "int64",
         "type": "integer"
        },
        {
         "name": "date",
         "rawType": "datetime64[ns]",
         "type": "datetime"
        },
        {
         "name": "year_x",
         "rawType": "int64",
         "type": "integer"
        },
        {
         "name": "month_x",
         "rawType": "int64",
         "type": "integer"
        },
        {
         "name": "day_x",
         "rawType": "int64",
         "type": "integer"
        },
        {
         "name": "month_sin",
         "rawType": "float64",
         "type": "float"
        },
        {
         "name": "month_cos",
         "rawType": "float64",
         "type": "float"
        },
        {
         "name": "actual_energy_mwh",
         "rawType": "float64",
         "type": "float"
        },
        {
         "name": "forecast_energy_mwh",
         "rawType": "float64",
         "type": "float"
        },
        {
         "name": "precip_mm",
         "rawType": "float64",
         "type": "float"
        },
        {
         "name": "temp_mean_c",
         "rawType": "float64",
         "type": "float"
        },
        {
         "name": "temp_min_c",
         "rawType": "float64",
         "type": "float"
        },
        {
         "name": "temp_max_c",
         "rawType": "float64",
         "type": "float"
        },
        {
         "name": "year_y",
         "rawType": "int64",
         "type": "integer"
        },
        {
         "name": "month_y",
         "rawType": "int64",
         "type": "integer"
        },
        {
         "name": "day_y",
         "rawType": "int64",
         "type": "integer"
        },
        {
         "name": "month",
         "rawType": "int32",
         "type": "integer"
        },
        {
         "name": "dow",
         "rawType": "int32",
         "type": "integer"
        },
        {
         "name": "is_weekend",
         "rawType": "int64",
         "type": "integer"
        },
        {
         "name": "HDD_18",
         "rawType": "float64",
         "type": "float"
        },
        {
         "name": "CDD_22",
         "rawType": "float64",
         "type": "float"
        },
        {
         "name": "lag1",
         "rawType": "float64",
         "type": "float"
        },
        {
         "name": "lag7",
         "rawType": "float64",
         "type": "float"
        }
       ],
       "ref": "a80ce52f-6a40-423e-8e2d-ad663270a1aa",
       "rows": [
        [
         "0",
         "2015-01-08 00:00:00",
         "2015",
         "1",
         "8",
         "0.4999999999999999",
         "0.8660254037844387",
         "266343.57",
         "266477.85",
         "5.494688",
         "-2.1072304",
         "-5.0254846",
         "0.61286014",
         "2015",
         "1",
         "8",
         "1",
         "3",
         "0",
         "20.1072304",
         "0.0",
         "287344.18",
         "383940.78"
        ],
        [
         "1",
         "2015-01-09 00:00:00",
         "2015",
         "1",
         "9",
         "0.4999999999999999",
         "0.8660254037844387",
         "299405.38",
         "297870.61",
         "4.9208064",
         "-2.5600622",
         "-8.149915",
         "-1.5809886",
         "2015",
         "1",
         "9",
         "1",
         "4",
         "0",
         "20.5600622",
         "0.0",
         "266343.57",
         "433005.71"
        ],
        [
         "2",
         "2015-01-10 00:00:00",
         "2015",
         "1",
         "10",
         "0.4999999999999999",
         "0.8660254037844387",
         "317768.65",
         "317054.68",
         "4.7626343",
         "-6.2565494",
         "-13.05755",
         "-3.7042282",
         "2015",
         "1",
         "10",
         "1",
         "5",
         "1",
         "24.2565494",
         "0.0",
         "299405.38",
         "388409.07"
        ],
        [
         "3",
         "2015-01-11 00:00:00",
         "2015",
         "1",
         "11",
         "0.4999999999999999",
         "0.8660254037844387",
         "330768.57",
         "328353.69",
         "10.576412",
         "-9.214477",
         "-14.893414",
         "-8.128716",
         "2015",
         "1",
         "11",
         "1",
         "6",
         "1",
         "27.214477000000002",
         "0.0",
         "317768.65",
         "376810.6"
        ],
        [
         "4",
         "2015-01-12 00:00:00",
         "2015",
         "1",
         "12",
         "0.4999999999999999",
         "0.8660254037844387",
         "438964.83",
         "439054.44",
         "4.138214",
         "-12.720015",
         "-17.619085",
         "-10.036193",
         "2015",
         "1",
         "12",
         "1",
         "0",
         "0",
         "30.720015",
         "0.0",
         "330768.57",
         "326417.35"
        ]
       ],
       "shape": {
        "columns": 22,
        "rows": 5
       }
      },
      "text/html": [
       "<div>\n",
       "<style scoped>\n",
       "    .dataframe tbody tr th:only-of-type {\n",
       "        vertical-align: middle;\n",
       "    }\n",
       "\n",
       "    .dataframe tbody tr th {\n",
       "        vertical-align: top;\n",
       "    }\n",
       "\n",
       "    .dataframe thead th {\n",
       "        text-align: right;\n",
       "    }\n",
       "</style>\n",
       "<table border=\"1\" class=\"dataframe\">\n",
       "  <thead>\n",
       "    <tr style=\"text-align: right;\">\n",
       "      <th></th>\n",
       "      <th>date</th>\n",
       "      <th>year_x</th>\n",
       "      <th>month_x</th>\n",
       "      <th>day_x</th>\n",
       "      <th>month_sin</th>\n",
       "      <th>month_cos</th>\n",
       "      <th>actual_energy_mwh</th>\n",
       "      <th>forecast_energy_mwh</th>\n",
       "      <th>precip_mm</th>\n",
       "      <th>temp_mean_c</th>\n",
       "      <th>...</th>\n",
       "      <th>year_y</th>\n",
       "      <th>month_y</th>\n",
       "      <th>day_y</th>\n",
       "      <th>month</th>\n",
       "      <th>dow</th>\n",
       "      <th>is_weekend</th>\n",
       "      <th>HDD_18</th>\n",
       "      <th>CDD_22</th>\n",
       "      <th>lag1</th>\n",
       "      <th>lag7</th>\n",
       "    </tr>\n",
       "  </thead>\n",
       "  <tbody>\n",
       "    <tr>\n",
       "      <th>0</th>\n",
       "      <td>2015-01-08</td>\n",
       "      <td>2015</td>\n",
       "      <td>1</td>\n",
       "      <td>8</td>\n",
       "      <td>0.5</td>\n",
       "      <td>0.866025</td>\n",
       "      <td>266343.57</td>\n",
       "      <td>266477.85</td>\n",
       "      <td>5.494688</td>\n",
       "      <td>-2.107230</td>\n",
       "      <td>...</td>\n",
       "      <td>2015</td>\n",
       "      <td>1</td>\n",
       "      <td>8</td>\n",
       "      <td>1</td>\n",
       "      <td>3</td>\n",
       "      <td>0</td>\n",
       "      <td>20.107230</td>\n",
       "      <td>0.0</td>\n",
       "      <td>287344.18</td>\n",
       "      <td>383940.78</td>\n",
       "    </tr>\n",
       "    <tr>\n",
       "      <th>1</th>\n",
       "      <td>2015-01-09</td>\n",
       "      <td>2015</td>\n",
       "      <td>1</td>\n",
       "      <td>9</td>\n",
       "      <td>0.5</td>\n",
       "      <td>0.866025</td>\n",
       "      <td>299405.38</td>\n",
       "      <td>297870.61</td>\n",
       "      <td>4.920806</td>\n",
       "      <td>-2.560062</td>\n",
       "      <td>...</td>\n",
       "      <td>2015</td>\n",
       "      <td>1</td>\n",
       "      <td>9</td>\n",
       "      <td>1</td>\n",
       "      <td>4</td>\n",
       "      <td>0</td>\n",
       "      <td>20.560062</td>\n",
       "      <td>0.0</td>\n",
       "      <td>266343.57</td>\n",
       "      <td>433005.71</td>\n",
       "    </tr>\n",
       "    <tr>\n",
       "      <th>2</th>\n",
       "      <td>2015-01-10</td>\n",
       "      <td>2015</td>\n",
       "      <td>1</td>\n",
       "      <td>10</td>\n",
       "      <td>0.5</td>\n",
       "      <td>0.866025</td>\n",
       "      <td>317768.65</td>\n",
       "      <td>317054.68</td>\n",
       "      <td>4.762634</td>\n",
       "      <td>-6.256549</td>\n",
       "      <td>...</td>\n",
       "      <td>2015</td>\n",
       "      <td>1</td>\n",
       "      <td>10</td>\n",
       "      <td>1</td>\n",
       "      <td>5</td>\n",
       "      <td>1</td>\n",
       "      <td>24.256549</td>\n",
       "      <td>0.0</td>\n",
       "      <td>299405.38</td>\n",
       "      <td>388409.07</td>\n",
       "    </tr>\n",
       "    <tr>\n",
       "      <th>3</th>\n",
       "      <td>2015-01-11</td>\n",
       "      <td>2015</td>\n",
       "      <td>1</td>\n",
       "      <td>11</td>\n",
       "      <td>0.5</td>\n",
       "      <td>0.866025</td>\n",
       "      <td>330768.57</td>\n",
       "      <td>328353.69</td>\n",
       "      <td>10.576412</td>\n",
       "      <td>-9.214477</td>\n",
       "      <td>...</td>\n",
       "      <td>2015</td>\n",
       "      <td>1</td>\n",
       "      <td>11</td>\n",
       "      <td>1</td>\n",
       "      <td>6</td>\n",
       "      <td>1</td>\n",
       "      <td>27.214477</td>\n",
       "      <td>0.0</td>\n",
       "      <td>317768.65</td>\n",
       "      <td>376810.60</td>\n",
       "    </tr>\n",
       "    <tr>\n",
       "      <th>4</th>\n",
       "      <td>2015-01-12</td>\n",
       "      <td>2015</td>\n",
       "      <td>1</td>\n",
       "      <td>12</td>\n",
       "      <td>0.5</td>\n",
       "      <td>0.866025</td>\n",
       "      <td>438964.83</td>\n",
       "      <td>439054.44</td>\n",
       "      <td>4.138214</td>\n",
       "      <td>-12.720015</td>\n",
       "      <td>...</td>\n",
       "      <td>2015</td>\n",
       "      <td>1</td>\n",
       "      <td>12</td>\n",
       "      <td>1</td>\n",
       "      <td>0</td>\n",
       "      <td>0</td>\n",
       "      <td>30.720015</td>\n",
       "      <td>0.0</td>\n",
       "      <td>330768.57</td>\n",
       "      <td>326417.35</td>\n",
       "    </tr>\n",
       "  </tbody>\n",
       "</table>\n",
       "<p>5 rows × 22 columns</p>\n",
       "</div>"
      ],
      "text/plain": [
       "        date  year_x  month_x  day_x  month_sin  month_cos  actual_energy_mwh  \\\n",
       "0 2015-01-08    2015        1      8        0.5   0.866025          266343.57   \n",
       "1 2015-01-09    2015        1      9        0.5   0.866025          299405.38   \n",
       "2 2015-01-10    2015        1     10        0.5   0.866025          317768.65   \n",
       "3 2015-01-11    2015        1     11        0.5   0.866025          330768.57   \n",
       "4 2015-01-12    2015        1     12        0.5   0.866025          438964.83   \n",
       "\n",
       "   forecast_energy_mwh  precip_mm  temp_mean_c  ...  year_y  month_y  day_y  \\\n",
       "0            266477.85   5.494688    -2.107230  ...    2015        1      8   \n",
       "1            297870.61   4.920806    -2.560062  ...    2015        1      9   \n",
       "2            317054.68   4.762634    -6.256549  ...    2015        1     10   \n",
       "3            328353.69  10.576412    -9.214477  ...    2015        1     11   \n",
       "4            439054.44   4.138214   -12.720015  ...    2015        1     12   \n",
       "\n",
       "   month  dow  is_weekend     HDD_18  CDD_22       lag1       lag7  \n",
       "0      1    3           0  20.107230     0.0  287344.18  383940.78  \n",
       "1      1    4           0  20.560062     0.0  266343.57  433005.71  \n",
       "2      1    5           1  24.256549     0.0  299405.38  388409.07  \n",
       "3      1    6           1  27.214477     0.0  317768.65  376810.60  \n",
       "4      1    0           0  30.720015     0.0  330768.57  326417.35  \n",
       "\n",
       "[5 rows x 22 columns]"
      ]
     },
     "execution_count": 12,
     "metadata": {},
     "output_type": "execute_result"
    }
   ],
   "source": [
    "# Make a working copy of the merged dataset\n",
    "df_feat = df.copy().sort_values('date')\n",
    "\n",
    "# Calendar features\n",
    "df_feat['dow'] = df_feat['date'].dt.dayofweek  # 0=Monday\n",
    "df_feat['month'] = df_feat['date'].dt.month\n",
    "df_feat['is_weekend'] = df_feat['dow'].isin([5,6]).astype(int)\n",
    "\n",
    "# Weather features: HDD and CDD\n",
    "df_feat['HDD_18'] = (18 - df_feat['temp_mean_c']).clip(lower=0)\n",
    "df_feat['CDD_22'] = (df_feat['temp_mean_c'] - 22).clip(lower=0)\n",
    "\n",
    "# Lag features (will only be used in later setups)\n",
    "df_feat['lag1'] = df_feat['actual_energy_mwh'].shift(1)\n",
    "df_feat['lag7'] = df_feat['actual_energy_mwh'].shift(7)\n",
    "\n",
    "# Drop rows with NA from lags (safe for later use)\n",
    "df_feat = df_feat.dropna().reset_index(drop=True)\n",
    "\n",
    "df_feat.head()"
   ]
  },
  {
   "cell_type": "markdown",
   "id": "6e4ecfa8",
   "metadata": {},
   "source": [
    "<p>Calendar, weather, and lag features were successfully created. Calendar variables capture weekly and monthly cycles, weather variables capture heating/cooling effects, and lag variables capture persistence in demand. These features will be tested in different combinations across the three model setups.</p>"
   ]
  },
  {
   "cell_type": "markdown",
   "id": "44a0ae30",
   "metadata": {},
   "source": [
    "### 3.1 Setup 1 - Weather + Seasonality only\n",
    "\n",
    "<p>In this setup, only weather and seasonality features were used to predict daily consumption. This represents the idea that electricity demand could be explained by temperature-driven heating/cooling needs and calendar patterns alone.</p>\n",
    "\n",
    "<p>Features included:</p>\n",
    "<ul>\n",
    "<li>Weather: mean temperature, HDD, CDD, precipitation</li>\n",
    "<li>Seasonality: day of week, month, weekend flag</li>\n",
    "</ul>\n",
    "\n",
    "<p>Data was split by time:</p>\n",
    "<ul>\n",
    "<li>Train: 2015-01-01 → 2024-12-31</li>\n",
    "<li>Test: 2025-01-01 → 2025-08-12</li>\n",
    "</ul>\n",
    "\n",
    "<p>Three models were evaluated:</p>\n",
    "<ul>\n",
    "<li>Linear Regression</li>\n",
    "<li>Ridge Regression (regularized linear)</li>\n",
    "<li>Random Forest</li>\n",
    "</ul>"
   ]
  },
  {
   "cell_type": "code",
   "execution_count": 13,
   "id": "816540da",
   "metadata": {},
   "outputs": [
    {
     "data": {
      "application/vnd.microsoft.datawrangler.viewer.v0+json": {
       "columns": [
        {
         "name": "index",
         "rawType": "int64",
         "type": "integer"
        },
        {
         "name": "model",
         "rawType": "object",
         "type": "string"
        },
        {
         "name": "RMSE_train",
         "rawType": "float64",
         "type": "float"
        },
        {
         "name": "MAE_train",
         "rawType": "float64",
         "type": "float"
        },
        {
         "name": "R2_train",
         "rawType": "float64",
         "type": "float"
        },
        {
         "name": "RMSE_test",
         "rawType": "float64",
         "type": "float"
        },
        {
         "name": "MAE_test",
         "rawType": "float64",
         "type": "float"
        },
        {
         "name": "R2_test",
         "rawType": "float64",
         "type": "float"
        },
        {
         "name": "n_train",
         "rawType": "int64",
         "type": "integer"
        },
        {
         "name": "n_test",
         "rawType": "int64",
         "type": "integer"
        }
       ],
       "ref": "45bf0e68-e8e8-4ffc-b817-2b9d4b9a2ba8",
       "rows": [
        [
         "0",
         "Linear (WS)",
         "67486.32",
         "52885.27",
         "0.01",
         "69842.25",
         "59957.9",
         "-0.18",
         "3646",
         "224"
        ],
        [
         "1",
         "Ridge (WS)",
         "67605.35",
         "52851.21",
         "0.01",
         "69290.16",
         "59249.43",
         "-0.16",
         "3646",
         "224"
        ],
        [
         "2",
         "RandomForest (WS)",
         "25499.2",
         "20011.19",
         "0.86",
         "69893.85",
         "57989.61",
         "-0.18",
         "3646",
         "224"
        ]
       ],
       "shape": {
        "columns": 9,
        "rows": 3
       }
      },
      "text/html": [
       "<div>\n",
       "<style scoped>\n",
       "    .dataframe tbody tr th:only-of-type {\n",
       "        vertical-align: middle;\n",
       "    }\n",
       "\n",
       "    .dataframe tbody tr th {\n",
       "        vertical-align: top;\n",
       "    }\n",
       "\n",
       "    .dataframe thead th {\n",
       "        text-align: right;\n",
       "    }\n",
       "</style>\n",
       "<table border=\"1\" class=\"dataframe\">\n",
       "  <thead>\n",
       "    <tr style=\"text-align: right;\">\n",
       "      <th></th>\n",
       "      <th>model</th>\n",
       "      <th>RMSE_train</th>\n",
       "      <th>MAE_train</th>\n",
       "      <th>R2_train</th>\n",
       "      <th>RMSE_test</th>\n",
       "      <th>MAE_test</th>\n",
       "      <th>R2_test</th>\n",
       "      <th>n_train</th>\n",
       "      <th>n_test</th>\n",
       "    </tr>\n",
       "  </thead>\n",
       "  <tbody>\n",
       "    <tr>\n",
       "      <th>0</th>\n",
       "      <td>Linear (WS)</td>\n",
       "      <td>67486.32</td>\n",
       "      <td>52885.27</td>\n",
       "      <td>0.01</td>\n",
       "      <td>69842.25</td>\n",
       "      <td>59957.90</td>\n",
       "      <td>-0.18</td>\n",
       "      <td>3646</td>\n",
       "      <td>224</td>\n",
       "    </tr>\n",
       "    <tr>\n",
       "      <th>1</th>\n",
       "      <td>Ridge (WS)</td>\n",
       "      <td>67605.35</td>\n",
       "      <td>52851.21</td>\n",
       "      <td>0.01</td>\n",
       "      <td>69290.16</td>\n",
       "      <td>59249.43</td>\n",
       "      <td>-0.16</td>\n",
       "      <td>3646</td>\n",
       "      <td>224</td>\n",
       "    </tr>\n",
       "    <tr>\n",
       "      <th>2</th>\n",
       "      <td>RandomForest (WS)</td>\n",
       "      <td>25499.20</td>\n",
       "      <td>20011.19</td>\n",
       "      <td>0.86</td>\n",
       "      <td>69893.85</td>\n",
       "      <td>57989.61</td>\n",
       "      <td>-0.18</td>\n",
       "      <td>3646</td>\n",
       "      <td>224</td>\n",
       "    </tr>\n",
       "  </tbody>\n",
       "</table>\n",
       "</div>"
      ],
      "text/plain": [
       "               model  RMSE_train  MAE_train  R2_train  RMSE_test  MAE_test  \\\n",
       "0        Linear (WS)    67486.32   52885.27      0.01   69842.25  59957.90   \n",
       "1         Ridge (WS)    67605.35   52851.21      0.01   69290.16  59249.43   \n",
       "2  RandomForest (WS)    25499.20   20011.19      0.86   69893.85  57989.61   \n",
       "\n",
       "   R2_test  n_train  n_test  \n",
       "0    -0.18     3646     224  \n",
       "1    -0.16     3646     224  \n",
       "2    -0.18     3646     224  "
      ]
     },
     "execution_count": 13,
     "metadata": {},
     "output_type": "execute_result"
    }
   ],
   "source": [
    "from sklearn.linear_model import LinearRegression, RidgeCV\n",
    "from sklearn.ensemble import RandomForestRegressor\n",
    "from sklearn.metrics import mean_squared_error, mean_absolute_error, r2_score\n",
    "\n",
    "# Select features for weather + seasonality only\n",
    "X_ws = pd.get_dummies(\n",
    "    df_feat[['temp_mean_c','HDD_18','CDD_22','precip_mm','dow','month','is_weekend']], \n",
    "    columns=['dow','month'], drop_first=True\n",
    ")\n",
    "y = df_feat['actual_energy_mwh']\n",
    "\n",
    "# Train-test split (time-based)\n",
    "split_date = pd.Timestamp('2025-01-01')\n",
    "X_train, X_test = X_ws[df_feat['date'] < split_date], X_ws[df_feat['date'] >= split_date]\n",
    "y_train, y_test = y[df_feat['date'] < split_date], y[df_feat['date'] >= split_date]\n",
    "\n",
    "# Define models\n",
    "lin = LinearRegression()\n",
    "ridge = RidgeCV(alphas=np.logspace(-3,3,21), cv=5)\n",
    "rf = RandomForestRegressor(n_estimators=400, random_state=42, n_jobs=-1)\n",
    "\n",
    "# Fit models\n",
    "lin.fit(X_train, y_train)\n",
    "ridge.fit(X_train, y_train)\n",
    "rf.fit(X_train, y_train)\n",
    "\n",
    "# Evaluation helper\n",
    "def eval_model(model, X_tr, y_tr, X_te, y_te, label):\n",
    "    pred_tr = model.predict(X_tr)\n",
    "    pred_te = model.predict(X_te)\n",
    "\n",
    "    # Old sklearn versions don't have squared=...\n",
    "    rmse_train = np.sqrt(mean_squared_error(y_tr, pred_tr))\n",
    "    rmse_test  = np.sqrt(mean_squared_error(y_te, pred_te))\n",
    "\n",
    "    return {\n",
    "        'model': label,\n",
    "        'RMSE_train': rmse_train,\n",
    "        'MAE_train': mean_absolute_error(y_tr, pred_tr),\n",
    "        'R2_train': r2_score(y_tr, pred_tr),\n",
    "        'RMSE_test': rmse_test,\n",
    "        'MAE_test': mean_absolute_error(y_te, pred_te),\n",
    "        'R2_test': r2_score(y_te, pred_te),\n",
    "        'n_train': len(y_tr),\n",
    "        'n_test': len(y_te),\n",
    "    }\n",
    "\n",
    "# Collect metrics\n",
    "metrics = []\n",
    "for m, lbl in [(lin,'Linear (WS)'), (ridge,'Ridge (WS)'), (rf,'RandomForest (WS)')]:\n",
    "    metrics.append(eval_model(m, X_train, y_train, X_test, y_test, lbl))\n",
    "\n",
    "ws_results = pd.DataFrame(metrics).round(2)\n",
    "ws_results"
   ]
  },
  {
   "cell_type": "markdown",
   "id": "01538250",
   "metadata": {},
   "source": [
    "<p>Using only weather and seasonality, all models fail to generalize to 2025: test R² is negative (−0.16 to −0.18), meaning they perform worse than predicting a constant mean. Random Forest overfits (R²_train 0.86) without improving test accuracy. This confirms that weather and calendar effects alone are insufficient for daily consumption prediction in Norway.</p>"
   ]
  },
  {
   "cell_type": "markdown",
   "id": "9648c519",
   "metadata": {},
   "source": [
    "### 3.2 Setup 2 - Lag only\n",
    "\n",
    "<p>In this setup, the models rely only on lagged consumption values:</p>\n",
    "<ul>\n",
    "<li>lag1: yesterday’s consumption</li>\n",
    "<li>lag7: last week’s consumption</li>\n",
    "</ul>\n",
    "\n",
    "<p>These autoregressive features capture persistence and weekly cycles in electricity demand. No weather or seasonality variables are included.</p>\n",
    "\n",
    "<p>A time-based split is applied:</p>\n",
    "<ul>\n",
    "<li>Train: 2015-01-01 → 2024-12-31</li>\n",
    "<li>Test: 2025-01-01 → 2025-08-12</li>\n",
    "</ul>\n",
    "\n",
    "<p>Models compared:</p>\n",
    "<ul>\n",
    "<li>Linear Regression</li>\n",
    "<li>Ridge Regression (regularized linear)</li>\n",
    "<li>Random Forest</li>\n",
    "</ul>"
   ]
  },
  {
   "cell_type": "code",
   "execution_count": 14,
   "id": "6582a0fa",
   "metadata": {},
   "outputs": [
    {
     "data": {
      "application/vnd.microsoft.datawrangler.viewer.v0+json": {
       "columns": [
        {
         "name": "index",
         "rawType": "int64",
         "type": "integer"
        },
        {
         "name": "model",
         "rawType": "object",
         "type": "string"
        },
        {
         "name": "RMSE_train",
         "rawType": "float64",
         "type": "float"
        },
        {
         "name": "MAE_train",
         "rawType": "float64",
         "type": "float"
        },
        {
         "name": "R2_train",
         "rawType": "float64",
         "type": "float"
        },
        {
         "name": "RMSE_test",
         "rawType": "float64",
         "type": "float"
        },
        {
         "name": "MAE_test",
         "rawType": "float64",
         "type": "float"
        },
        {
         "name": "R2_test",
         "rawType": "float64",
         "type": "float"
        },
        {
         "name": "n_train",
         "rawType": "int64",
         "type": "integer"
        },
        {
         "name": "n_test",
         "rawType": "int64",
         "type": "integer"
        }
       ],
       "ref": "8571f380-e909-40a7-bac5-be1007e8453b",
       "rows": [
        [
         "0",
         "Linear (Lags)",
         "29002.65",
         "18607.93",
         "0.82",
         "18345.44",
         "13488.39",
         "0.92",
         "3646",
         "224"
        ],
        [
         "1",
         "Ridge (Lags)",
         "29002.65",
         "18607.93",
         "0.82",
         "18345.44",
         "13488.39",
         "0.92",
         "3646",
         "224"
        ],
        [
         "2",
         "RandomForest (Lags)",
         "9476.27",
         "5400.95",
         "0.98",
         "42889.95",
         "33758.89",
         "0.55",
         "3646",
         "224"
        ]
       ],
       "shape": {
        "columns": 9,
        "rows": 3
       }
      },
      "text/html": [
       "<div>\n",
       "<style scoped>\n",
       "    .dataframe tbody tr th:only-of-type {\n",
       "        vertical-align: middle;\n",
       "    }\n",
       "\n",
       "    .dataframe tbody tr th {\n",
       "        vertical-align: top;\n",
       "    }\n",
       "\n",
       "    .dataframe thead th {\n",
       "        text-align: right;\n",
       "    }\n",
       "</style>\n",
       "<table border=\"1\" class=\"dataframe\">\n",
       "  <thead>\n",
       "    <tr style=\"text-align: right;\">\n",
       "      <th></th>\n",
       "      <th>model</th>\n",
       "      <th>RMSE_train</th>\n",
       "      <th>MAE_train</th>\n",
       "      <th>R2_train</th>\n",
       "      <th>RMSE_test</th>\n",
       "      <th>MAE_test</th>\n",
       "      <th>R2_test</th>\n",
       "      <th>n_train</th>\n",
       "      <th>n_test</th>\n",
       "    </tr>\n",
       "  </thead>\n",
       "  <tbody>\n",
       "    <tr>\n",
       "      <th>0</th>\n",
       "      <td>Linear (Lags)</td>\n",
       "      <td>29002.65</td>\n",
       "      <td>18607.93</td>\n",
       "      <td>0.82</td>\n",
       "      <td>18345.44</td>\n",
       "      <td>13488.39</td>\n",
       "      <td>0.92</td>\n",
       "      <td>3646</td>\n",
       "      <td>224</td>\n",
       "    </tr>\n",
       "    <tr>\n",
       "      <th>1</th>\n",
       "      <td>Ridge (Lags)</td>\n",
       "      <td>29002.65</td>\n",
       "      <td>18607.93</td>\n",
       "      <td>0.82</td>\n",
       "      <td>18345.44</td>\n",
       "      <td>13488.39</td>\n",
       "      <td>0.92</td>\n",
       "      <td>3646</td>\n",
       "      <td>224</td>\n",
       "    </tr>\n",
       "    <tr>\n",
       "      <th>2</th>\n",
       "      <td>RandomForest (Lags)</td>\n",
       "      <td>9476.27</td>\n",
       "      <td>5400.95</td>\n",
       "      <td>0.98</td>\n",
       "      <td>42889.95</td>\n",
       "      <td>33758.89</td>\n",
       "      <td>0.55</td>\n",
       "      <td>3646</td>\n",
       "      <td>224</td>\n",
       "    </tr>\n",
       "  </tbody>\n",
       "</table>\n",
       "</div>"
      ],
      "text/plain": [
       "                 model  RMSE_train  MAE_train  R2_train  RMSE_test  MAE_test  \\\n",
       "0        Linear (Lags)    29002.65   18607.93      0.82   18345.44  13488.39   \n",
       "1         Ridge (Lags)    29002.65   18607.93      0.82   18345.44  13488.39   \n",
       "2  RandomForest (Lags)     9476.27    5400.95      0.98   42889.95  33758.89   \n",
       "\n",
       "   R2_test  n_train  n_test  \n",
       "0     0.92     3646     224  \n",
       "1     0.92     3646     224  \n",
       "2     0.55     3646     224  "
      ]
     },
     "execution_count": 14,
     "metadata": {},
     "output_type": "execute_result"
    }
   ],
   "source": [
    "# Select features: lags only\n",
    "X_lags = df_feat[['lag1','lag7']]\n",
    "y = df_feat['actual_energy_mwh']\n",
    "\n",
    "# Train-test split\n",
    "split_date = pd.Timestamp('2025-01-01')\n",
    "X_train, X_test = X_lags[df_feat['date'] < split_date], X_lags[df_feat['date'] >= split_date]\n",
    "y_train, y_test = y[df_feat['date'] < split_date], y[df_feat['date'] >= split_date]\n",
    "\n",
    "# Define models\n",
    "lin = LinearRegression()\n",
    "ridge = RidgeCV(alphas=np.logspace(-3,3,21), cv=5)\n",
    "rf = RandomForestRegressor(n_estimators=400, random_state=42, n_jobs=-1)\n",
    "\n",
    "# Fit models\n",
    "lin.fit(X_train, y_train)\n",
    "ridge.fit(X_train, y_train)\n",
    "rf.fit(X_train, y_train)\n",
    "\n",
    "# Collect metrics\n",
    "metrics = []\n",
    "for m, lbl in [(lin,'Linear (Lags)'), (ridge,'Ridge (Lags)'), (rf,'RandomForest (Lags)')]:\n",
    "    metrics.append(eval_model(m, X_train, y_train, X_test, y_test, lbl))\n",
    "\n",
    "lags_results = pd.DataFrame(metrics).round(2)\n",
    "lags_results"
   ]
  },
  {
   "cell_type": "markdown",
   "id": "04fc0488",
   "metadata": {},
   "source": [
    "<p>Lag-based models deliver a major improvement compared to weather and seasonality alone. Both Linear and Ridge achieve an R² of 0.92 on the test set, showing that yesterday’s and last week’s consumption explain most of the daily variation in demand. Random Forest overfits (train R² = 0.98) but generalizes poorly (test R² = 0.55). This confirms that short-term persistence is the dominant driver of daily electricity consumption in Norway.</p>"
   ]
  },
  {
   "cell_type": "markdown",
   "id": "e20e8414",
   "metadata": {},
   "source": [
    "### 3.3 Setup 3 - Full model (Weather + Seasonality + Lag)\n",
    "\n",
    "<p>In this setup, the model includes all available features:</p>\n",
    "<ul>\n",
    "<li>Weather: mean temperature, HDD, CDD, precipitation</li>\n",
    "<li>Seasonality: day of week, month, weekend flag</li>\n",
    "<li>Lags: yesterday’s (lag1) and last week’s (lag7) consumption</li>\n",
    "</ul>\n",
    "\n",
    "<p>This combines external drivers with autoregressive persistence, providing a robust and interpretable model.</p>\n",
    "\n",
    "<p>A time-based split is used:</p>\n",
    "<ul>\n",
    "<li>Train: 2015-01-01 → 2024-12-31</li>\n",
    "<li>Test: 2025-01-01 → 2025-08-12</li>\n",
    "</ul>\n",
    "\n",
    "<p>Models compared:</p>\n",
    "<ul>\n",
    "<li>Linear Regression</li>\n",
    "<li>Ridge Regression (regularized linear)</li>\n",
    "<li>Random Forest</li>\n",
    "</ul>"
   ]
  },
  {
   "cell_type": "code",
   "execution_count": 15,
   "id": "47c77342",
   "metadata": {},
   "outputs": [
    {
     "name": "stderr",
     "output_type": "stream",
     "text": [
      "/Users/charlesravndal/Documents/Charles/Bachelor/environment/venv/lib/python3.13/site-packages/scipy/_lib/_util.py:1233: LinAlgWarning: Ill-conditioned matrix (rcond=6.96703e-17): result may not be accurate.\n",
      "  return f(*arrays, *other_args, **kwargs)\n",
      "/Users/charlesravndal/Documents/Charles/Bachelor/environment/venv/lib/python3.13/site-packages/scipy/_lib/_util.py:1233: LinAlgWarning: Ill-conditioned matrix (rcond=7.17873e-17): result may not be accurate.\n",
      "  return f(*arrays, *other_args, **kwargs)\n",
      "/Users/charlesravndal/Documents/Charles/Bachelor/environment/venv/lib/python3.13/site-packages/scipy/_lib/_util.py:1233: LinAlgWarning: Ill-conditioned matrix (rcond=6.77206e-17): result may not be accurate.\n",
      "  return f(*arrays, *other_args, **kwargs)\n",
      "/Users/charlesravndal/Documents/Charles/Bachelor/environment/venv/lib/python3.13/site-packages/scipy/_lib/_util.py:1233: LinAlgWarning: Ill-conditioned matrix (rcond=7.4421e-17): result may not be accurate.\n",
      "  return f(*arrays, *other_args, **kwargs)\n",
      "/Users/charlesravndal/Documents/Charles/Bachelor/environment/venv/lib/python3.13/site-packages/scipy/_lib/_util.py:1233: LinAlgWarning: Ill-conditioned matrix (rcond=7.59121e-17): result may not be accurate.\n",
      "  return f(*arrays, *other_args, **kwargs)\n"
     ]
    },
    {
     "data": {
      "application/vnd.microsoft.datawrangler.viewer.v0+json": {
       "columns": [
        {
         "name": "index",
         "rawType": "int64",
         "type": "integer"
        },
        {
         "name": "model",
         "rawType": "object",
         "type": "string"
        },
        {
         "name": "RMSE_train",
         "rawType": "float64",
         "type": "float"
        },
        {
         "name": "MAE_train",
         "rawType": "float64",
         "type": "float"
        },
        {
         "name": "R2_train",
         "rawType": "float64",
         "type": "float"
        },
        {
         "name": "RMSE_test",
         "rawType": "float64",
         "type": "float"
        },
        {
         "name": "MAE_test",
         "rawType": "float64",
         "type": "float"
        },
        {
         "name": "R2_test",
         "rawType": "float64",
         "type": "float"
        },
        {
         "name": "n_train",
         "rawType": "int64",
         "type": "integer"
        },
        {
         "name": "n_test",
         "rawType": "int64",
         "type": "integer"
        }
       ],
       "ref": "42808e54-7301-4ea3-8992-cfc8b6367994",
       "rows": [
        [
         "0",
         "Linear (Full)",
         "28905.68",
         "18642.35",
         "0.82",
         "18680.35",
         "13728.24",
         "0.92",
         "3646",
         "224"
        ],
        [
         "1",
         "Ridge (Full)",
         "28939.42",
         "18599.53",
         "0.82",
         "18545.32",
         "13559.23",
         "0.92",
         "3646",
         "224"
        ],
        [
         "2",
         "RandomForest (Full)",
         "9261.69",
         "5302.68",
         "0.98",
         "40788.81",
         "31755.13",
         "0.6",
         "3646",
         "224"
        ]
       ],
       "shape": {
        "columns": 9,
        "rows": 3
       }
      },
      "text/html": [
       "<div>\n",
       "<style scoped>\n",
       "    .dataframe tbody tr th:only-of-type {\n",
       "        vertical-align: middle;\n",
       "    }\n",
       "\n",
       "    .dataframe tbody tr th {\n",
       "        vertical-align: top;\n",
       "    }\n",
       "\n",
       "    .dataframe thead th {\n",
       "        text-align: right;\n",
       "    }\n",
       "</style>\n",
       "<table border=\"1\" class=\"dataframe\">\n",
       "  <thead>\n",
       "    <tr style=\"text-align: right;\">\n",
       "      <th></th>\n",
       "      <th>model</th>\n",
       "      <th>RMSE_train</th>\n",
       "      <th>MAE_train</th>\n",
       "      <th>R2_train</th>\n",
       "      <th>RMSE_test</th>\n",
       "      <th>MAE_test</th>\n",
       "      <th>R2_test</th>\n",
       "      <th>n_train</th>\n",
       "      <th>n_test</th>\n",
       "    </tr>\n",
       "  </thead>\n",
       "  <tbody>\n",
       "    <tr>\n",
       "      <th>0</th>\n",
       "      <td>Linear (Full)</td>\n",
       "      <td>28905.68</td>\n",
       "      <td>18642.35</td>\n",
       "      <td>0.82</td>\n",
       "      <td>18680.35</td>\n",
       "      <td>13728.24</td>\n",
       "      <td>0.92</td>\n",
       "      <td>3646</td>\n",
       "      <td>224</td>\n",
       "    </tr>\n",
       "    <tr>\n",
       "      <th>1</th>\n",
       "      <td>Ridge (Full)</td>\n",
       "      <td>28939.42</td>\n",
       "      <td>18599.53</td>\n",
       "      <td>0.82</td>\n",
       "      <td>18545.32</td>\n",
       "      <td>13559.23</td>\n",
       "      <td>0.92</td>\n",
       "      <td>3646</td>\n",
       "      <td>224</td>\n",
       "    </tr>\n",
       "    <tr>\n",
       "      <th>2</th>\n",
       "      <td>RandomForest (Full)</td>\n",
       "      <td>9261.69</td>\n",
       "      <td>5302.68</td>\n",
       "      <td>0.98</td>\n",
       "      <td>40788.81</td>\n",
       "      <td>31755.13</td>\n",
       "      <td>0.60</td>\n",
       "      <td>3646</td>\n",
       "      <td>224</td>\n",
       "    </tr>\n",
       "  </tbody>\n",
       "</table>\n",
       "</div>"
      ],
      "text/plain": [
       "                 model  RMSE_train  MAE_train  R2_train  RMSE_test  MAE_test  \\\n",
       "0        Linear (Full)    28905.68   18642.35      0.82   18680.35  13728.24   \n",
       "1         Ridge (Full)    28939.42   18599.53      0.82   18545.32  13559.23   \n",
       "2  RandomForest (Full)     9261.69    5302.68      0.98   40788.81  31755.13   \n",
       "\n",
       "   R2_test  n_train  n_test  \n",
       "0     0.92     3646     224  \n",
       "1     0.92     3646     224  \n",
       "2     0.60     3646     224  "
      ]
     },
     "execution_count": 15,
     "metadata": {},
     "output_type": "execute_result"
    }
   ],
   "source": [
    "# Full feature set: weather + seasonality + lags\n",
    "X_full = pd.get_dummies(\n",
    "    df_feat[['temp_mean_c','HDD_18','CDD_22','precip_mm','dow','month','is_weekend','lag1','lag7']], \n",
    "    columns=['dow','month'], drop_first=True\n",
    ")\n",
    "y = df_feat['actual_energy_mwh']\n",
    "\n",
    "# Train-test split\n",
    "split_date = pd.Timestamp('2025-01-01')\n",
    "X_train, X_test = X_full[df_feat['date'] < split_date], X_full[df_feat['date'] >= split_date]\n",
    "y_train, y_test = y[df_feat['date'] < split_date], y[df_feat['date'] >= split_date]\n",
    "\n",
    "# Define models\n",
    "lin = LinearRegression()\n",
    "ridge = RidgeCV(alphas=np.logspace(-3,3,21), cv=5)\n",
    "rf = RandomForestRegressor(n_estimators=400, random_state=42, n_jobs=-1)\n",
    "\n",
    "# Fit models\n",
    "lin.fit(X_train, y_train)\n",
    "ridge.fit(X_train, y_train)\n",
    "rf.fit(X_train, y_train)\n",
    "\n",
    "# Collect metrics\n",
    "metrics = []\n",
    "for m, lbl in [(lin,'Linear (Full)'), (ridge,'Ridge (Full)'), (rf,'RandomForest (Full)')]:\n",
    "    metrics.append(eval_model(m, X_train, y_train, X_test, y_test, lbl))\n",
    "\n",
    "full_results = pd.DataFrame(metrics).round(2)\n",
    "full_results"
   ]
  },
  {
   "cell_type": "markdown",
   "id": "70736766",
   "metadata": {},
   "source": [
    "<p>The full model combining weather, seasonality, and lag features achieves a test R² of 0.92 with both Linear and Ridge regression, matching the accuracy of the lags-only setup. A multicollinearity warning was triggered for the Linear model, indicating unstable coefficients due to overlapping predictors. This does not affect predictive performance, but it reduces the reliability of coefficient interpretation. Ridge regression mitigates this issue and is therefore the more robust linear choice. Random Forest shows very high training accuracy (R² = 0.98) but overfits, with weaker generalization on the test set (R² = 0.60). Overall, the results confirm that lag features drive most predictive power, while weather and seasonality add only marginal improvements.</p>\n"
   ]
  },
  {
   "cell_type": "markdown",
   "id": "9b069a6d",
   "metadata": {},
   "source": [
    "### 3.4 Model comparison summary\n",
    "\n",
    "<p>To compare the three setups, results from weather+seasonality, lags-only, and full models are collected into one summary table. This highlights the improvement when lag features are introduced and shows the marginal effect of adding weather and seasonality.</p>"
   ]
  },
  {
   "cell_type": "code",
   "execution_count": 16,
   "id": "843d3525",
   "metadata": {},
   "outputs": [
    {
     "data": {
      "application/vnd.microsoft.datawrangler.viewer.v0+json": {
       "columns": [
        {
         "name": "index",
         "rawType": "int64",
         "type": "integer"
        },
        {
         "name": "model",
         "rawType": "object",
         "type": "string"
        },
        {
         "name": "RMSE_train",
         "rawType": "float64",
         "type": "float"
        },
        {
         "name": "MAE_train",
         "rawType": "float64",
         "type": "float"
        },
        {
         "name": "R2_train",
         "rawType": "float64",
         "type": "float"
        },
        {
         "name": "RMSE_test",
         "rawType": "float64",
         "type": "float"
        },
        {
         "name": "MAE_test",
         "rawType": "float64",
         "type": "float"
        },
        {
         "name": "R2_test",
         "rawType": "float64",
         "type": "float"
        }
       ],
       "ref": "905e1011-aea7-4027-accb-b164659bb20c",
       "rows": [
        [
         "0",
         "Linear (WS)",
         "67486.32",
         "52885.27",
         "0.01",
         "69842.25",
         "59957.9",
         "-0.18"
        ],
        [
         "1",
         "Ridge (WS)",
         "67605.35",
         "52851.21",
         "0.01",
         "69290.16",
         "59249.43",
         "-0.16"
        ],
        [
         "2",
         "RandomForest (WS)",
         "25499.2",
         "20011.19",
         "0.86",
         "69893.85",
         "57989.61",
         "-0.18"
        ],
        [
         "3",
         "Linear (Lags)",
         "29002.65",
         "18607.93",
         "0.82",
         "18345.44",
         "13488.39",
         "0.92"
        ],
        [
         "4",
         "Ridge (Lags)",
         "29002.65",
         "18607.93",
         "0.82",
         "18345.44",
         "13488.39",
         "0.92"
        ],
        [
         "5",
         "RandomForest (Lags)",
         "9476.27",
         "5400.95",
         "0.98",
         "42889.95",
         "33758.89",
         "0.55"
        ],
        [
         "6",
         "Linear (Full)",
         "28905.68",
         "18642.35",
         "0.82",
         "18680.35",
         "13728.24",
         "0.92"
        ],
        [
         "7",
         "Ridge (Full)",
         "28939.42",
         "18599.53",
         "0.82",
         "18545.32",
         "13559.23",
         "0.92"
        ],
        [
         "8",
         "RandomForest (Full)",
         "9261.69",
         "5302.68",
         "0.98",
         "40788.81",
         "31755.13",
         "0.6"
        ]
       ],
       "shape": {
        "columns": 7,
        "rows": 9
       }
      },
      "text/html": [
       "<div>\n",
       "<style scoped>\n",
       "    .dataframe tbody tr th:only-of-type {\n",
       "        vertical-align: middle;\n",
       "    }\n",
       "\n",
       "    .dataframe tbody tr th {\n",
       "        vertical-align: top;\n",
       "    }\n",
       "\n",
       "    .dataframe thead th {\n",
       "        text-align: right;\n",
       "    }\n",
       "</style>\n",
       "<table border=\"1\" class=\"dataframe\">\n",
       "  <thead>\n",
       "    <tr style=\"text-align: right;\">\n",
       "      <th></th>\n",
       "      <th>model</th>\n",
       "      <th>RMSE_train</th>\n",
       "      <th>MAE_train</th>\n",
       "      <th>R2_train</th>\n",
       "      <th>RMSE_test</th>\n",
       "      <th>MAE_test</th>\n",
       "      <th>R2_test</th>\n",
       "    </tr>\n",
       "  </thead>\n",
       "  <tbody>\n",
       "    <tr>\n",
       "      <th>0</th>\n",
       "      <td>Linear (WS)</td>\n",
       "      <td>67486.32</td>\n",
       "      <td>52885.27</td>\n",
       "      <td>0.01</td>\n",
       "      <td>69842.25</td>\n",
       "      <td>59957.90</td>\n",
       "      <td>-0.18</td>\n",
       "    </tr>\n",
       "    <tr>\n",
       "      <th>1</th>\n",
       "      <td>Ridge (WS)</td>\n",
       "      <td>67605.35</td>\n",
       "      <td>52851.21</td>\n",
       "      <td>0.01</td>\n",
       "      <td>69290.16</td>\n",
       "      <td>59249.43</td>\n",
       "      <td>-0.16</td>\n",
       "    </tr>\n",
       "    <tr>\n",
       "      <th>2</th>\n",
       "      <td>RandomForest (WS)</td>\n",
       "      <td>25499.20</td>\n",
       "      <td>20011.19</td>\n",
       "      <td>0.86</td>\n",
       "      <td>69893.85</td>\n",
       "      <td>57989.61</td>\n",
       "      <td>-0.18</td>\n",
       "    </tr>\n",
       "    <tr>\n",
       "      <th>3</th>\n",
       "      <td>Linear (Lags)</td>\n",
       "      <td>29002.65</td>\n",
       "      <td>18607.93</td>\n",
       "      <td>0.82</td>\n",
       "      <td>18345.44</td>\n",
       "      <td>13488.39</td>\n",
       "      <td>0.92</td>\n",
       "    </tr>\n",
       "    <tr>\n",
       "      <th>4</th>\n",
       "      <td>Ridge (Lags)</td>\n",
       "      <td>29002.65</td>\n",
       "      <td>18607.93</td>\n",
       "      <td>0.82</td>\n",
       "      <td>18345.44</td>\n",
       "      <td>13488.39</td>\n",
       "      <td>0.92</td>\n",
       "    </tr>\n",
       "    <tr>\n",
       "      <th>5</th>\n",
       "      <td>RandomForest (Lags)</td>\n",
       "      <td>9476.27</td>\n",
       "      <td>5400.95</td>\n",
       "      <td>0.98</td>\n",
       "      <td>42889.95</td>\n",
       "      <td>33758.89</td>\n",
       "      <td>0.55</td>\n",
       "    </tr>\n",
       "    <tr>\n",
       "      <th>6</th>\n",
       "      <td>Linear (Full)</td>\n",
       "      <td>28905.68</td>\n",
       "      <td>18642.35</td>\n",
       "      <td>0.82</td>\n",
       "      <td>18680.35</td>\n",
       "      <td>13728.24</td>\n",
       "      <td>0.92</td>\n",
       "    </tr>\n",
       "    <tr>\n",
       "      <th>7</th>\n",
       "      <td>Ridge (Full)</td>\n",
       "      <td>28939.42</td>\n",
       "      <td>18599.53</td>\n",
       "      <td>0.82</td>\n",
       "      <td>18545.32</td>\n",
       "      <td>13559.23</td>\n",
       "      <td>0.92</td>\n",
       "    </tr>\n",
       "    <tr>\n",
       "      <th>8</th>\n",
       "      <td>RandomForest (Full)</td>\n",
       "      <td>9261.69</td>\n",
       "      <td>5302.68</td>\n",
       "      <td>0.98</td>\n",
       "      <td>40788.81</td>\n",
       "      <td>31755.13</td>\n",
       "      <td>0.60</td>\n",
       "    </tr>\n",
       "  </tbody>\n",
       "</table>\n",
       "</div>"
      ],
      "text/plain": [
       "                 model  RMSE_train  MAE_train  R2_train  RMSE_test  MAE_test  \\\n",
       "0          Linear (WS)    67486.32   52885.27      0.01   69842.25  59957.90   \n",
       "1           Ridge (WS)    67605.35   52851.21      0.01   69290.16  59249.43   \n",
       "2    RandomForest (WS)    25499.20   20011.19      0.86   69893.85  57989.61   \n",
       "3        Linear (Lags)    29002.65   18607.93      0.82   18345.44  13488.39   \n",
       "4         Ridge (Lags)    29002.65   18607.93      0.82   18345.44  13488.39   \n",
       "5  RandomForest (Lags)     9476.27    5400.95      0.98   42889.95  33758.89   \n",
       "6        Linear (Full)    28905.68   18642.35      0.82   18680.35  13728.24   \n",
       "7         Ridge (Full)    28939.42   18599.53      0.82   18545.32  13559.23   \n",
       "8  RandomForest (Full)     9261.69    5302.68      0.98   40788.81  31755.13   \n",
       "\n",
       "   R2_test  \n",
       "0    -0.18  \n",
       "1    -0.16  \n",
       "2    -0.18  \n",
       "3     0.92  \n",
       "4     0.92  \n",
       "5     0.55  \n",
       "6     0.92  \n",
       "7     0.92  \n",
       "8     0.60  "
      ]
     },
     "execution_count": 16,
     "metadata": {},
     "output_type": "execute_result"
    }
   ],
   "source": [
    "# Combine results from setups 1, 2, and 3\n",
    "summary = pd.concat([ws_results, lags_results, full_results], ignore_index=True)\n",
    "\n",
    "# Sort for readability (optional)\n",
    "summary = summary[['model','RMSE_train','MAE_train','R2_train','RMSE_test','MAE_test','R2_test']]\n",
    "\n",
    "summary.round(2)"
   ]
  },
  {
   "cell_type": "code",
   "execution_count": 17,
   "id": "755995ed",
   "metadata": {},
   "outputs": [
    {
     "data": {
      "image/png": "[encoded data removed]",
      "text/plain": [
       "<Figure size 1000x500 with 1 Axes>"
      ]
     },
     "metadata": {},
     "output_type": "display_data"
    }
   ],
   "source": [
    "# Extract only model + R²_test for plotting\n",
    "plot_df = summary[['model','R2_test']]\n",
    "\n",
    "plt.figure(figsize=(10,5))\n",
    "bars = plt.bar(plot_df['model'], plot_df['R2_test'], color='skyblue', edgecolor='black')\n",
    "\n",
    "plt.axhline(0, color='red', linestyle='--', linewidth=1)\n",
    "plt.title(\"Test R² by Setup and Model\")\n",
    "plt.ylabel(\"R² (Test)\")\n",
    "plt.xticks(rotation=45, ha='right')\n",
    "\n",
    "# Annotate values on top of bars\n",
    "for bar in bars:\n",
    "    height = bar.get_height()\n",
    "    plt.text(bar.get_x() + bar.get_width()/2, height, f\"{height:.2f}\", \n",
    "             ha='center', va='bottom', fontsize=9)\n",
    "\n",
    "plt.tight_layout()\n",
    "plt.show()"
   ]
  },
  {
   "cell_type": "markdown",
   "id": "20852c1a",
   "metadata": {},
   "source": [
    "The model comparison highlights a clear progression:\n",
    "<ul>\n",
    "<li>Weather + Seasonality only provides no predictive value, with test R² negative across all models.</li>\n",
    "<li>Lags only dramatically improves performance, with Linear and Ridge achieving a test R² of 0.92, showing that short-term persistence drives daily consumption.</li>\n",
    "<li>Full model maintains the same level of accuracy (R² = 0.92). Weather and seasonality add interpretability but little additional predictive power. Multicollinearity causes instability in the OLS coefficients, but Ridge regression mitigates this issue and is the preferred linear model. Random Forest consistently overfits across all setups, achieving high training scores but poor generalization.</li>\n",
    "</ul>"
   ]
  },
  {
   "cell_type": "markdown",
   "id": "61c7712b",
   "metadata": {},
   "source": [
    "## 4. Optimization and reflection"
   ]
  },
  {
   "cell_type": "markdown",
   "id": "246b794f",
   "metadata": {},
   "source": [
    "### 4.1 Ridge regularization tuning\n",
    "<p>Ridge regression was selected as the preferred linear model because it handles multicollinearity and generalizes well. To ensure stability, the regularization strength (α) is tuned using cross-validation.</p>"
   ]
  },
  {
   "cell_type": "code",
   "execution_count": 18,
   "id": "9eb3caa5",
   "metadata": {},
   "outputs": [
    {
     "name": "stdout",
     "output_type": "stream",
     "text": [
      "Best alpha selected by CV: 1000.0\n",
      "Ridge (optimized): RMSE_test = 18545.32 R2_test = 0.92\n"
     ]
    },
    {
     "name": "stderr",
     "output_type": "stream",
     "text": [
      "/Users/charlesravndal/Documents/Charles/Bachelor/environment/venv/lib/python3.13/site-packages/scipy/_lib/_util.py:1233: LinAlgWarning: Ill-conditioned matrix (rcond=6.96703e-17): result may not be accurate.\n",
      "  return f(*arrays, *other_args, **kwargs)\n",
      "/Users/charlesravndal/Documents/Charles/Bachelor/environment/venv/lib/python3.13/site-packages/scipy/_lib/_util.py:1233: LinAlgWarning: Ill-conditioned matrix (rcond=7.17873e-17): result may not be accurate.\n",
      "  return f(*arrays, *other_args, **kwargs)\n",
      "/Users/charlesravndal/Documents/Charles/Bachelor/environment/venv/lib/python3.13/site-packages/scipy/_lib/_util.py:1233: LinAlgWarning: Ill-conditioned matrix (rcond=6.77206e-17): result may not be accurate.\n",
      "  return f(*arrays, *other_args, **kwargs)\n",
      "/Users/charlesravndal/Documents/Charles/Bachelor/environment/venv/lib/python3.13/site-packages/scipy/_lib/_util.py:1233: LinAlgWarning: Ill-conditioned matrix (rcond=7.4421e-17): result may not be accurate.\n",
      "  return f(*arrays, *other_args, **kwargs)\n",
      "/Users/charlesravndal/Documents/Charles/Bachelor/environment/venv/lib/python3.13/site-packages/scipy/_lib/_util.py:1233: LinAlgWarning: Ill-conditioned matrix (rcond=7.59121e-17): result may not be accurate.\n",
      "  return f(*arrays, *other_args, **kwargs)\n"
     ]
    }
   ],
   "source": [
    "# RidgeCV already did tuning, but let's check alpha path explicitly\n",
    "alphas = np.logspace(-3, 3, 21)\n",
    "ridge = RidgeCV(alphas=alphas, cv=5)\n",
    "ridge.fit(X_train, y_train)\n",
    "\n",
    "best_alpha = ridge.alpha_\n",
    "print(\"Best alpha selected by CV:\", best_alpha)\n",
    "\n",
    "# Refit with best alpha\n",
    "ridge_final = ridge\n",
    "ridge_pred = ridge_final.predict(X_test)\n",
    "\n",
    "# Evaluate\n",
    "ridge_rmse = np.sqrt(mean_squared_error(y_test, ridge_pred))\n",
    "ridge_r2 = r2_score(y_test, ridge_pred)\n",
    "\n",
    "print(\"Ridge (optimized): RMSE_test =\", round(ridge_rmse,2), \"R2_test =\", round(ridge_r2,2))"
   ]
  },
  {
   "cell_type": "markdown",
   "id": "1b619ca6",
   "metadata": {},
   "source": [
    "<p>Ridge regression achieved a test R² of 0.92 with an optimal α = 1000, confirming it as the most stable and accurate model. A multicollinearity warning was raised, indicating that some predictors overlap. While this affects coefficient stability, it does not harm predictive accuracy. </p>"
   ]
  },
  {
   "cell_type": "markdown",
   "id": "22c4d77a",
   "metadata": {},
   "source": [
    "### 4.2 Random Forest depth control\n",
    "<p>Random Forest overfit badly in all setups (train R² ≈ 0.98, test R² ≈ 0.55–0.60). Here, the maximum tree depth is constrained to reduce variance and improve generalization.</p>"
   ]
  },
  {
   "cell_type": "code",
   "execution_count": 19,
   "id": "a3cef8d6",
   "metadata": {},
   "outputs": [
    {
     "name": "stdout",
     "output_type": "stream",
     "text": [
      "Best RF params: {'max_depth': 5, 'n_estimators': 200}\n",
      "RF (optimized): RMSE_test = 36585.22 R2_test = 0.68\n"
     ]
    }
   ],
   "source": [
    "from sklearn.model_selection import GridSearchCV\n",
    "\n",
    "# Shallow Random Forest\n",
    "param_grid = {'max_depth': [3, 5, 10, 20], 'n_estimators': [200]}\n",
    "\n",
    "rf_grid = GridSearchCV(\n",
    "    RandomForestRegressor(random_state=42, n_jobs=1),  \n",
    "    param_grid,\n",
    "    cv=3,\n",
    "    scoring='r2',\n",
    "    n_jobs=1  \n",
    ")\n",
    "\n",
    "rf_grid.fit(X_train, y_train)\n",
    "print(\"Best RF params:\", rf_grid.best_params_)\n",
    "\n",
    "rf_best = rf_grid.best_estimator_\n",
    "rf_pred = rf_best.predict(X_test)\n",
    "print(\n",
    "    \"RF (optimized): RMSE_test =\",\n",
    "    round(np.sqrt(mean_squared_error(y_test, rf_pred)), 2),\n",
    "    \"R2_test =\", round(r2_score(y_test, rf_pred), 2)\n",
    ")"
   ]
  },
  {
   "cell_type": "markdown",
   "id": "d80fd6c9",
   "metadata": {},
   "source": [
    "<p>Tuning Random Forest with constrained depth reduced overfitting and improved generalization, raising test performance to R² = 0.68 (from 0.60 in the untuned model). However, accuracy remains well below that of Ridge regression (R² = 0.92). This indicates that while depth control helps mitigate overfitting, Random Forest is not well-suited for this task, where autoregressive lag features dominate predictive power.</p>"
   ]
  },
  {
   "cell_type": "markdown",
   "id": "e3079d34",
   "metadata": {},
   "source": [
    "### 4.3 Residual and prediction diagnostics\n",
    "\n",
    "<p>After model optimization, Ridge regression is the preferred model. To validate its reliability, residuals and predictions are examined:</p>\n",
    "<ul>\n",
    "<li>Predicted vs. Actual plot checks overall fit.</li>\n",
    "<li>Residuals over time checks if errors are unbiased and randomly distributed.</li>\n",
    "<li>Residual histogram checks error distribution symmetry.</li>\n",
    "</ul>"
   ]
  },
  {
   "cell_type": "code",
   "execution_count": 20,
   "id": "f2783c36",
   "metadata": {},
   "outputs": [
    {
     "data": {
      "image/png": "[encoded data removed]",
      "text/plain": [
       "<Figure size 600x600 with 1 Axes>"
      ]
     },
     "metadata": {},
     "output_type": "display_data"
    },
    {
     "data": {
      "image/png": "[encoded data removed]",
      "text/plain": [
       "<Figure size 1000x400 with 1 Axes>"
      ]
     },
     "metadata": {},
     "output_type": "display_data"
    },
    {
     "data": {
      "image/png": "[encoded data removed]",
      "text/plain": [
       "<Figure size 600x400 with 1 Axes>"
      ]
     },
     "metadata": {},
     "output_type": "display_data"
    }
   ],
   "source": [
    "# Predictions from optimized Ridge\n",
    "ridge_pred_train = ridge_final.predict(X_train)\n",
    "ridge_pred_test = ridge_final.predict(X_test)\n",
    "\n",
    "# 1. Predicted vs Actual (test set)\n",
    "plt.figure(figsize=(6,6))\n",
    "plt.scatter(y_test, ridge_pred_test, alpha=0.5, color='steelblue', edgecolor='k')\n",
    "plt.plot([y_test.min(), y_test.max()], [y_test.min(), y_test.max()], 'r--', lw=2)\n",
    "plt.xlabel(\"Actual Consumption (MWh)\")\n",
    "plt.ylabel(\"Predicted Consumption (MWh)\")\n",
    "plt.title(\"Ridge Regression: Predicted vs Actual (Test Set)\")\n",
    "plt.show()\n",
    "\n",
    "# 2. Residuals over time\n",
    "residuals = y_test - ridge_pred_test\n",
    "plt.figure(figsize=(10,4))\n",
    "plt.plot(df_feat.loc[df_feat['date'] >= split_date, 'date'], residuals, color='darkorange')\n",
    "plt.axhline(0, color='black', linestyle='--')\n",
    "plt.xlabel(\"Date\")\n",
    "plt.ylabel(\"Residual (MWh)\")\n",
    "plt.title(\"Ridge Regression: Residuals over Time (Test Set)\")\n",
    "plt.show()\n",
    "\n",
    "# 3. Histogram of residuals\n",
    "plt.figure(figsize=(6,4))\n",
    "plt.hist(residuals, bins=30, color='grey', edgecolor='black')\n",
    "plt.xlabel(\"Residual (MWh)\")\n",
    "plt.ylabel(\"Frequency\")\n",
    "plt.title(\"Distribution of Residuals (Test Set)\")\n",
    "plt.show()"
   ]
  },
  {
   "cell_type": "markdown",
   "id": "3b7e3781",
   "metadata": {},
   "source": [
    "<p>The predicted vs. actual plot shows that the Ridge model closely follows observed consumption, with most points clustering around the diagonal. Residuals are centered near zero and fluctuate without a systematic pattern over time, indicating that errors are largely unbiased. The histogram of residuals is approximately symmetric, though slightly skewed toward under-prediction at higher demand values. Overall, the diagnostics confirm that the Ridge regression model generalizes well and captures daily electricity consumption dynamics reliably.</p>"
   ]
  },
  {
   "cell_type": "markdown",
   "id": "7e68bebb",
   "metadata": {},
   "source": [
    "## 5. Results\n",
    "\n",
    "#### Conclusions\n",
    "\n",
    "<p>This project investigated whether daily electricity consumption in Norway can be predicted using weather, seasonality, and lagged demand features.</p>\n",
    "<ol>\n",
    "<li>Problem framing (Step 1): Accurate forecasting supports sustainable hydropower reservoir management, grid stability, and reduced reliance on imports.</li>\n",
    "<li>EDA (Step 2): Weather and seasonality showed weak predictive power, while persistence in demand emerged as the dominant factor. Notably, the data reflected higher consumption in spring/early summer and less extreme winter peaks, consistent with recent climate trends in Norway of colder summers and milder winters. Norway’s high electrification, particularly in transport where most new cars are electric, also contributes to high but relatively stable electricity demand.</li>\n",
    "<li>Model comparison (Step 3):</li>\n",
    "<ul>\n",
    "<li>Weather + seasonality models failed (negative R²).</li>\n",
    "<li>Lag-based models achieved high accuracy (R² ≈ 0.92).\n",
    "<li>Full model confirmed lag features dominate, with weather and seasonality adding marginal benefit.</li>\n",
    "</ul>\n",
    "<li>Optimization (Step 4): Ridge regression was identified as the most robust model, balancing accuracy, interpretability, and stability. Random Forest consistently overfit.</li>\n",
    "<li>Diagnostics (Step 4.3): Residual analysis confirmed Ridge predictions are unbiased and generalize well.</li>\n",
    "</ol>\n",
    "\n",
    "<p><b>Hypothesis vs Findings:</b> The initial hypothesis assumed that consumption could be predicted primarily from weather and seasonality. Results disproved this, showing that lagged demand features were far more important.</p>\n",
    "\n",
    "\n",
    "<p><b>Final model: Ridge Regression (α = 1000), test R² = 0.92.</b></p>"
   ]
  }
 ],
 "metadata": {
  "kernelspec": {
   "display_name": "venv",
   "language": "python",
   "name": "python3"
  },
  "language_info": {
   "codemirror_mode": {
    "name": "ipython",
    "version": 3
   },
   "file_extension": ".py",
   "mimetype": "text/x-python",
   "name": "python",
   "nbconvert_exporter": "python",
   "pygments_lexer": "ipython3",
   "version": "3.13.7"
  }
 },
 "nbformat": 4,
 "nbformat_minor": 5
}
